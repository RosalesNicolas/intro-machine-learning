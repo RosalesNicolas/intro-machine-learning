{
 "cells": [
  {
   "cell_type": "markdown",
   "source": [
    "# **Diplomatura en Ciencia de Datos, Aprendizaje Automático y sus Aplicaciones**\n",
    "\n",
    "# **Introducción al Aprendizaje Automático**\n",
    "\n",
    "## Entregable # 2\n",
    "\n",
    "## GRUPO Nº24\n",
    "\n",
    "## INTEGRANTES:\n",
    "   - Clarisa Manzone\n",
    "   - Nico Rosales\n",
    "   - Daniel Rubio\n",
    "   - Diana Fonnegra\n",
    "   ------"
   ],
   "metadata": {
    "collapsed": false,
    "pycharm": {
     "name": "#%% md\n"
    }
   }
  },
  {
   "cell_type": "markdown",
   "metadata": {
    "pycharm": {
     "name": "#%% md\n"
    },
    "id": "VRz2agnxZY12"
   },
   "source": [
    "# Laboratorio 2: Armado de un esquema de aprendizaje automático\n",
    "\n",
    "En el laboratorio final se espera que puedan poner en práctica los conocimientos adquiridos en el curso, trabajando con un conjunto de datos de clasificación.\n",
    "\n",
    "El objetivo es que se introduzcan en el desarrollo de un esquema para hacer tareas de aprendizaje automático: selección de un modelo, ajuste de hiperparámetros y evaluación.\n",
    "\n",
    "El conjunto de datos a utilizar está en `./data/loan_data.csv`. Si abren el archivo verán que al principio (las líneas que empiezan con `#`) describen el conjunto de datos y sus atributos (incluyendo el atributo de etiqueta o clase).\n",
    "\n",
    "Se espera que hagan uso de las herramientas vistas en el curso. Se espera que hagan uso especialmente de las herramientas brindadas por `scikit-learn`."
   ]
  },
  {
   "cell_type": "code",
   "execution_count": 22,
   "metadata": {
    "pycharm": {
     "name": "#%%\n"
    },
    "id": "vOi1B3mvZY17"
   },
   "outputs": [],
   "source": [
    "import numpy as np\n",
    "import pandas as pd\n",
    "\n",
    "# TODO: Agregar las librerías que hagan falta\n",
    "from sklearn.model_selection import train_test_split"
   ]
  },
  {
   "cell_type": "markdown",
   "metadata": {
    "pycharm": {
     "name": "#%% md\n"
    },
    "id": "LpUwewm9ZY19"
   },
   "source": [
    "## Carga de datos y división en entrenamiento y evaluación\n",
    "\n",
    "La celda siguiente se encarga de la carga de datos (haciendo uso de pandas). Estos serán los que se trabajarán en el resto del laboratorio."
   ]
  },
  {
   "cell_type": "code",
   "execution_count": 23,
   "metadata": {
    "pycharm": {
     "name": "#%%\n"
    },
    "id": "6YaFN5HRZY19"
   },
   "outputs": [],
   "source": [
    "ruta_git = \"https://raw.githubusercontent.com/DiploDatos/IntroduccionAprendizajeAutomatico/master/data/loan_data.csv\"\n",
    "dataset = pd.read_csv(ruta_git, comment=\"#\")\n",
    "\n",
    "\n",
    "# dataset = pd.read_csv(\"./data/loan_data.csv\", comment=\"#\")\n",
    "\n",
    "# División entre instancias y etiquetas\n",
    "X, y = dataset.iloc[:, 1:], dataset.TARGET\n",
    "\n",
    "# división entre entrenamiento y evaluación\n",
    "X_train, X_test, y_train, y_test = train_test_split(X, y, test_size=0.2, random_state=0)"
   ]
  },
  {
   "cell_type": "markdown",
   "metadata": {
    "pycharm": {
     "name": "#%% md\n"
    },
    "id": "Pk5djoGDZY1-"
   },
   "source": [
    "\n",
    "Documentación:\n",
    "\n",
    "- https://scikit-learn.org/stable/modules/generated/sklearn.model_selection.train_test_split.html"
   ]
  },
  {
   "cell_type": "markdown",
   "metadata": {
    "pycharm": {
     "name": "#%% md\n"
    },
    "id": "rRCTCMM-ZY1-"
   },
   "source": [
    "## Ejercicio 1: Descripción de los Datos y la Tarea\n",
    "\n",
    "Responder las siguientes preguntas:\n",
    "\n",
    "1. ¿De qué se trata el conjunto de datos?\n",
    "2. ¿Cuál es la variable objetivo que hay que predecir? ¿Qué significado tiene?\n",
    "3. ¿Qué información (atributos) hay disponible para hacer la predicción?\n",
    "4. ¿Qué atributos imagina ud. que son los más determinantes para la predicción?\n",
    "\n",
    "**No hace falta escribir código para responder estas preguntas.**"
   ]
  },
  {
   "cell_type": "markdown",
   "source": [
    "### Respuesta Ejercicio 1"
   ],
   "metadata": {
    "collapsed": false,
    "pycharm": {
     "name": "#%% md\n"
    },
    "id": "cbkIa24QZY1_"
   }
  },
  {
   "cell_type": "markdown",
   "source": [
    "### Introducción\n",
    "El **Departamento de Crédito** de un banco prentende automatizar el proceso de evaluación de líneas de créditos hipotecarios. Se pretende crear un modelo de calificación crediticia que defina una acción de rechazo. Para su desarrollo se cuenta con información recopilada de los solicitantes a los que se les ha ortogado un crédito previamente."
   ],
   "metadata": {
    "collapsed": false,
    "pycharm": {
     "name": "#%% md\n"
    },
    "id": "cphC1iOQZY2A"
   }
  },
  {
   "cell_type": "markdown",
   "source": [
    "###  Respuesta Ejercicio 1.1\n",
    "El conjunto de datos contiene información de 1854 préstamos hipotecarios recientes.\n",
    "El campo TARGET indica si un solicitante incumplió o se encuentra en morosidad grave.\n",
    "El conjunto de datos cuenta con 20% de creditos incumplidos (309 muestras)."
   ],
   "metadata": {
    "collapsed": false,
    "pycharm": {
     "name": "#%% md\n"
    },
    "id": "ebVNIKD8ZY2B"
   }
  },
  {
   "cell_type": "markdown",
   "source": [
    "### Respuesta Ejercicio 1.2\n",
    "\n",
    "La variable objetivo es identificada como \"TARGET\" (binaria; 1: NO CUMPLE, 0:Cumple). La cual predice si un cliente solicitante del credito no cumplira con el pago del mismo."
   ],
   "metadata": {
    "collapsed": false,
    "pycharm": {
     "name": "#%% md\n"
    },
    "id": "OxfhgUWRZY2C"
   }
  },
  {
   "cell_type": "markdown",
   "source": [
    "### Respuesta Ejercicio 1.3\n",
    "Para cada muestra se cuenta con los siguientes atributos:\n",
    "\n",
    " - LOAN: Monto del préstamo solicitado\n",
    " - MORTDUE: Monto adeudado en la hipoteca existente\n",
    " - VALUE: Valor de la propiedad actual\n",
    " - YOJ: Años en el trabajo actual\n",
    " - DEROG: Número de informes negativos importantes\n",
    " - DELINQ: Número de líneas de crédito morosas\n",
    " - CLAGE: Edad de la línea comercial más antigua en meses\n",
    " - NINQ: Número de líneas de crédito recientes\n",
    " - CLNO: Número de líneas de crédito\n",
    " - DEBTINC:\tRelación deuda-ingresos\n"
   ],
   "metadata": {
    "collapsed": false,
    "pycharm": {
     "name": "#%% md\n"
    },
    "id": "PPcqAIsAZY2D"
   }
  },
  {
   "cell_type": "markdown",
   "source": [
    "### Respuesta Ejercicio 1.4\n",
    "\n",
    "Podemos intuir que los siguiente atributos puede representar la capacidad de pago del credito y la conducta del acreeder frente a pagos comprometidos.\n",
    "\n",
    " - LOAN: Monto del préstamo solicitado\n",
    " - DEBTINC:\tRelación deuda-ingresos\n",
    " - MORTDUE: Monto adeudado en la hipoteca existente\n",
    " - DEROG: Número de informes negativos importantes\n",
    " - DELINQ: Número de líneas de crédito morosa"
   ],
   "metadata": {
    "collapsed": false,
    "pycharm": {
     "name": "#%% md\n"
    },
    "id": "7Lan3nPqZY2E"
   }
  },
  {
   "cell_type": "markdown",
   "metadata": {
    "pycharm": {
     "name": "#%% md\n"
    },
    "id": "szNAxElXZY2E"
   },
   "source": [
    "## Ejercicio 2: Predicción con Modelos Lineales\n",
    "\n",
    "En este ejercicio se entrenarán modelos lineales de clasificación para predecir la variable objetivo.\n",
    "\n",
    "Para ello, deberán utilizar la clase SGDClassifier de scikit-learn.\n",
    "\n",
    "Documentación:\n",
    "- https://scikit-learn.org/stable/modules/sgd.html\n",
    "- https://scikit-learn.org/stable/modules/generated/sklearn.linear_model.SGDClassifier.html\n"
   ]
  },
  {
   "cell_type": "markdown",
   "source": [
    "### Ejercicio 2.1: SGDClassifier con hiperparámetros por defecto\n",
    "\n",
    "Entrenar y evaluar el clasificador SGDClassifier usando los valores por omisión de scikit-learn para todos los parámetros. Únicamente **fijar la semilla aleatoria** para hacer repetible el experimento.\n",
    "\n",
    "Evaluar sobre el conjunto de **entrenamiento** y sobre el conjunto de **evaluación**, reportando:\n",
    "- Accuracy\n",
    "- Precision\n",
    "- Recall\n",
    "- F1\n",
    "- matriz de confusión"
   ],
   "metadata": {
    "collapsed": false,
    "pycharm": {
     "name": "#%% md\n"
    },
    "id": "1X2I-JK4ZY2F"
   }
  },
  {
   "cell_type": "markdown",
   "source": [
    "#### Entrenamiento del modelo. SGDC (Clasificador: stochastic gradient descent)"
   ],
   "metadata": {
    "collapsed": false,
    "pycharm": {
     "name": "#%% md\n"
    },
    "id": "6zZrQ4q3ZY2F"
   }
  },
  {
   "cell_type": "code",
   "execution_count": 24,
   "outputs": [
    {
     "data": {
      "text/plain": "Pipeline(steps=[('standardscaler', StandardScaler()),\n                ('sgdclassifier', SGDClassifier(random_state=0))])",
      "text/html": "<style>#sk-container-id-4 {color: black;background-color: white;}#sk-container-id-4 pre{padding: 0;}#sk-container-id-4 div.sk-toggleable {background-color: white;}#sk-container-id-4 label.sk-toggleable__label {cursor: pointer;display: block;width: 100%;margin-bottom: 0;padding: 0.3em;box-sizing: border-box;text-align: center;}#sk-container-id-4 label.sk-toggleable__label-arrow:before {content: \"▸\";float: left;margin-right: 0.25em;color: #696969;}#sk-container-id-4 label.sk-toggleable__label-arrow:hover:before {color: black;}#sk-container-id-4 div.sk-estimator:hover label.sk-toggleable__label-arrow:before {color: black;}#sk-container-id-4 div.sk-toggleable__content {max-height: 0;max-width: 0;overflow: hidden;text-align: left;background-color: #f0f8ff;}#sk-container-id-4 div.sk-toggleable__content pre {margin: 0.2em;color: black;border-radius: 0.25em;background-color: #f0f8ff;}#sk-container-id-4 input.sk-toggleable__control:checked~div.sk-toggleable__content {max-height: 200px;max-width: 100%;overflow: auto;}#sk-container-id-4 input.sk-toggleable__control:checked~label.sk-toggleable__label-arrow:before {content: \"▾\";}#sk-container-id-4 div.sk-estimator input.sk-toggleable__control:checked~label.sk-toggleable__label {background-color: #d4ebff;}#sk-container-id-4 div.sk-label input.sk-toggleable__control:checked~label.sk-toggleable__label {background-color: #d4ebff;}#sk-container-id-4 input.sk-hidden--visually {border: 0;clip: rect(1px 1px 1px 1px);clip: rect(1px, 1px, 1px, 1px);height: 1px;margin: -1px;overflow: hidden;padding: 0;position: absolute;width: 1px;}#sk-container-id-4 div.sk-estimator {font-family: monospace;background-color: #f0f8ff;border: 1px dotted black;border-radius: 0.25em;box-sizing: border-box;margin-bottom: 0.5em;}#sk-container-id-4 div.sk-estimator:hover {background-color: #d4ebff;}#sk-container-id-4 div.sk-parallel-item::after {content: \"\";width: 100%;border-bottom: 1px solid gray;flex-grow: 1;}#sk-container-id-4 div.sk-label:hover label.sk-toggleable__label {background-color: #d4ebff;}#sk-container-id-4 div.sk-serial::before {content: \"\";position: absolute;border-left: 1px solid gray;box-sizing: border-box;top: 0;bottom: 0;left: 50%;z-index: 0;}#sk-container-id-4 div.sk-serial {display: flex;flex-direction: column;align-items: center;background-color: white;padding-right: 0.2em;padding-left: 0.2em;position: relative;}#sk-container-id-4 div.sk-item {position: relative;z-index: 1;}#sk-container-id-4 div.sk-parallel {display: flex;align-items: stretch;justify-content: center;background-color: white;position: relative;}#sk-container-id-4 div.sk-item::before, #sk-container-id-4 div.sk-parallel-item::before {content: \"\";position: absolute;border-left: 1px solid gray;box-sizing: border-box;top: 0;bottom: 0;left: 50%;z-index: -1;}#sk-container-id-4 div.sk-parallel-item {display: flex;flex-direction: column;z-index: 1;position: relative;background-color: white;}#sk-container-id-4 div.sk-parallel-item:first-child::after {align-self: flex-end;width: 50%;}#sk-container-id-4 div.sk-parallel-item:last-child::after {align-self: flex-start;width: 50%;}#sk-container-id-4 div.sk-parallel-item:only-child::after {width: 0;}#sk-container-id-4 div.sk-dashed-wrapped {border: 1px dashed gray;margin: 0 0.4em 0.5em 0.4em;box-sizing: border-box;padding-bottom: 0.4em;background-color: white;}#sk-container-id-4 div.sk-label label {font-family: monospace;font-weight: bold;display: inline-block;line-height: 1.2em;}#sk-container-id-4 div.sk-label-container {text-align: center;}#sk-container-id-4 div.sk-container {/* jupyter's `normalize.less` sets `[hidden] { display: none; }` but bootstrap.min.css set `[hidden] { display: none !important; }` so we also need the `!important` here to be able to override the default hidden behavior on the sphinx rendered scikit-learn.org. See: https://github.com/scikit-learn/scikit-learn/issues/21755 */display: inline-block !important;position: relative;}#sk-container-id-4 div.sk-text-repr-fallback {display: none;}</style><div id=\"sk-container-id-4\" class=\"sk-top-container\"><div class=\"sk-text-repr-fallback\"><pre>Pipeline(steps=[(&#x27;standardscaler&#x27;, StandardScaler()),\n                (&#x27;sgdclassifier&#x27;, SGDClassifier(random_state=0))])</pre><b>In a Jupyter environment, please rerun this cell to show the HTML representation or trust the notebook. <br />On GitHub, the HTML representation is unable to render, please try loading this page with nbviewer.org.</b></div><div class=\"sk-container\" hidden><div class=\"sk-item sk-dashed-wrapped\"><div class=\"sk-label-container\"><div class=\"sk-label sk-toggleable\"><input class=\"sk-toggleable__control sk-hidden--visually\" id=\"sk-estimator-id-10\" type=\"checkbox\" ><label for=\"sk-estimator-id-10\" class=\"sk-toggleable__label sk-toggleable__label-arrow\">Pipeline</label><div class=\"sk-toggleable__content\"><pre>Pipeline(steps=[(&#x27;standardscaler&#x27;, StandardScaler()),\n                (&#x27;sgdclassifier&#x27;, SGDClassifier(random_state=0))])</pre></div></div></div><div class=\"sk-serial\"><div class=\"sk-item\"><div class=\"sk-estimator sk-toggleable\"><input class=\"sk-toggleable__control sk-hidden--visually\" id=\"sk-estimator-id-11\" type=\"checkbox\" ><label for=\"sk-estimator-id-11\" class=\"sk-toggleable__label sk-toggleable__label-arrow\">StandardScaler</label><div class=\"sk-toggleable__content\"><pre>StandardScaler()</pre></div></div></div><div class=\"sk-item\"><div class=\"sk-estimator sk-toggleable\"><input class=\"sk-toggleable__control sk-hidden--visually\" id=\"sk-estimator-id-12\" type=\"checkbox\" ><label for=\"sk-estimator-id-12\" class=\"sk-toggleable__label sk-toggleable__label-arrow\">SGDClassifier</label><div class=\"sk-toggleable__content\"><pre>SGDClassifier(random_state=0)</pre></div></div></div></div></div></div></div>"
     },
     "execution_count": 24,
     "metadata": {},
     "output_type": "execute_result"
    }
   ],
   "source": [
    "from sklearn.linear_model import SGDClassifier\n",
    "from sklearn.preprocessing import StandardScaler\n",
    "from sklearn.pipeline import make_pipeline\n",
    "\n",
    "# Always scale the input. The most convenient way is to use a pipeline.\n",
    "clf = make_pipeline(StandardScaler(), SGDClassifier(random_state=0))\n",
    "clf.fit(X_train, y_train)\n"
   ],
   "metadata": {
    "pycharm": {
     "name": "#%%\n"
    },
    "id": "tpspGtl5ZY2G",
    "outputId": "31f7861e-be48-4aec-bdb4-d732eefa15ae",
    "colab": {
     "base_uri": "https://localhost:8080/"
    }
   }
  },
  {
   "cell_type": "markdown",
   "source": [
    "#### Predicción con datos de entrenamiento y test"
   ],
   "metadata": {
    "collapsed": false,
    "pycharm": {
     "name": "#%% md\n"
    },
    "id": "y9P7dn23ZY2H"
   }
  },
  {
   "cell_type": "code",
   "execution_count": 25,
   "outputs": [],
   "source": [
    "y_test_pred = clf.predict(X_test)\n",
    "y_train_pred = clf.predict(X_train)"
   ],
   "metadata": {
    "pycharm": {
     "name": "#%%\n"
    },
    "id": "6wmD-PNiZY2H"
   }
  },
  {
   "cell_type": "markdown",
   "source": [
    "#### Metricas para el set de test"
   ],
   "metadata": {
    "collapsed": false,
    "pycharm": {
     "name": "#%% md\n"
    },
    "id": "aCDRrKOnZY2H"
   }
  },
  {
   "cell_type": "code",
   "execution_count": 26,
   "outputs": [],
   "source": [
    "from sklearn.metrics import accuracy_score, precision_score, recall_score, f1_score,\\\n",
    " confusion_matrix, ConfusionMatrixDisplay ,classification_report\n",
    "from utils import plot_confusion_matrix"
   ],
   "metadata": {
    "pycharm": {
     "name": "#%%\n"
    },
    "id": "ayrOOIgXZY2I"
   }
  },
  {
   "cell_type": "markdown",
   "source": [
    "#### Calculo de métricas para el conjunto de prueba (Test)"
   ],
   "metadata": {
    "collapsed": false,
    "pycharm": {
     "name": "#%% md\n"
    },
    "id": "9XOEj0avZY2I"
   }
  },
  {
   "cell_type": "code",
   "execution_count": 27,
   "outputs": [
    {
     "name": "stdout",
     "output_type": "stream",
     "text": [
      "Metricas para el conjunto Test\n",
      "Accuracy = 0.868\n",
      "Precision= 0.645\n",
      "Recall   = 0.345\n",
      "F1       = 0.449\n"
     ]
    },
    {
     "data": {
      "text/plain": "<Figure size 432x288 with 2 Axes>",
      "image/png": "[encoded data removed]"
     },
     "metadata": {
      "needs_background": "light"
     },
     "output_type": "display_data"
    }
   ],
   "source": [
    "acc_test=accuracy_score(y_test, y_test_pred)\n",
    "pre_test=precision_score(y_test, y_test_pred)\n",
    "rcall_test=recall_score(y_test, y_test_pred)\n",
    "f1_test=f1_score(y_test, y_test_pred)\n",
    "cm_test=confusion_matrix(y_test, y_test_pred, labels=clf.classes_)\n",
    "\n",
    "print(f\"Metricas para el conjunto Test\")\n",
    "print(f\"Accuracy = {round(acc_test,3)}\")\n",
    "print(f\"Precision= {round(pre_test,3)}\")\n",
    "print(f\"Recall   = {round(rcall_test,3)}\")\n",
    "print(f\"F1       = {round(f1_test,3)}\")\n",
    "plot_confusion_matrix(cm_test, clf.classes_)"
   ],
   "metadata": {
    "pycharm": {
     "name": "#%%\n"
    },
    "id": "tSoWd7I-ZY2J",
    "outputId": "6d8feebb-2595-4bb3-c98d-36f877f40384"
   }
  },
  {
   "cell_type": "markdown",
   "source": [
    "#### Calculo de métricas para el conjunto de entrenamiento (training)"
   ],
   "metadata": {
    "collapsed": false,
    "pycharm": {
     "name": "#%% md\n"
    },
    "id": "yI3VdKylZY2K"
   }
  },
  {
   "cell_type": "code",
   "execution_count": 28,
   "outputs": [
    {
     "name": "stdout",
     "output_type": "stream",
     "text": [
      "Metricas para el conjunto Training\n",
      "Accuracy = 0.873\n",
      "Precision= 0.714\n",
      "Recall   = 0.418\n",
      "F1       = 0.528\n"
     ]
    },
    {
     "data": {
      "text/plain": "<Figure size 432x288 with 2 Axes>",
      "image/png": "[encoded data removed]"
     },
     "metadata": {
      "needs_background": "light"
     },
     "output_type": "display_data"
    }
   ],
   "source": [
    "acc_train = accuracy_score(y_train, y_train_pred)\n",
    "pre_train = precision_score(y_train, y_train_pred)\n",
    "rcall_train = recall_score(y_train, y_train_pred)\n",
    "f1_train = f1_score(y_train, y_train_pred)\n",
    "cm_train = confusion_matrix(y_train, y_train_pred, labels=clf.classes_)\n",
    "\n",
    "print(f\"Metricas para el conjunto Training\")\n",
    "print(f\"Accuracy = {round(acc_train,3)}\")\n",
    "print(f\"Precision= {round(pre_train,3)}\")\n",
    "print(f\"Recall   = {round(rcall_train,3)}\")\n",
    "print(f\"F1       = {round(f1_train,3)}\")\n",
    "plot_confusion_matrix(cm_train, clf.classes_)"
   ],
   "metadata": {
    "pycharm": {
     "name": "#%%\n"
    },
    "id": "yvIbDjymZY2K",
    "outputId": "609419c6-9f70-4697-8ffa-8a6bf2445d70"
   }
  },
  {
   "cell_type": "markdown",
   "source": [
    "#### Conclusiones: analizando ambos reportes notamos valores similares para Accuracy. Respecto al conjunto de test el de entenamiento presenta mejores indicadores para la precision, recall y F1, lo cual es lógico dado que fue quien generó el modelo."
   ],
   "metadata": {
    "collapsed": false,
    "pycharm": {
     "name": "#%% md\n"
    },
    "id": "JEUJKpQKZY2L"
   }
  },
  {
   "cell_type": "markdown",
   "metadata": {
    "pycharm": {
     "name": "#%% md\n"
    },
    "id": "gejqeWNxZY2L"
   },
   "source": [
    "### Ejercicio 2.2: Ajuste de Hiperparámetros\n",
    "PresentacionMetricas_IAA.mp4\n",
    "\n",
    "Seleccionar valores para los hiperparámetros principales del SGDClassifier. Como mínimo, probar diferentes funciones de loss, tasas de entrenamiento y tasas de regularización.\n",
    "\n",
    "Para ello, usar grid-search y 5-fold cross-validation sobre el conjunto de entrenamiento para explorar muchas combinaciones posibles de valores.\n",
    "\n",
    "Reportar accuracy promedio y varianza para todas las configuraciones.\n",
    "\n",
    "Para la mejor configuración encontrada, evaluar sobre el conjunto de **entrenamiento** y sobre el conjunto de **evaluación**, reportando:\n",
    "- Accuracy\n",
    "- Precision\n",
    "- Recall\n",
    "- F1\n",
    "- matriz de confusión\n",
    "\n",
    "Documentación:\n",
    "- https://scikit-learn.org/stable/modules/grid_search.html\n",
    "- https://scikit-learn.org/stable/modules/generated/sklearn.model_selection.GridSearchCV.html"
   ]
  },
  {
   "cell_type": "markdown",
   "source": [
    "### Respuesta Ejercicio 2.2"
   ],
   "metadata": {
    "collapsed": false,
    "pycharm": {
     "name": "#%% md\n"
    },
    "id": "0nbIa9TpZY2M"
   }
  },
  {
   "cell_type": "code",
   "execution_count": 29,
   "outputs": [],
   "source": [
    "#### Importación de modulos"
   ],
   "metadata": {
    "pycharm": {
     "name": "#%%\n"
    },
    "id": "7s4M8_NJZY2M"
   }
  },
  {
   "cell_type": "code",
   "execution_count": 30,
   "outputs": [],
   "source": [
    "from sklearn.preprocessing import StandardScaler\n",
    "from sklearn.model_selection import ParameterGrid\n",
    "from sklearn.model_selection import GridSearchCV\n",
    "from tabulate import tabulate"
   ],
   "metadata": {
    "pycharm": {
     "name": "#%%\n"
    },
    "id": "sfHLcDpbZY2N"
   }
  },
  {
   "cell_type": "markdown",
   "source": [
    "#### Escalado de los atributos de entrenamiento y prueba"
   ],
   "metadata": {
    "collapsed": false,
    "pycharm": {
     "name": "#%% md\n"
    },
    "id": "Y9JjhMvNZY2N"
   }
  },
  {
   "cell_type": "code",
   "execution_count": 31,
   "outputs": [],
   "source": [
    "# Stochastic Gradient Descent: es sensible a la escala de los atributos,\n",
    "# se recomienda enfáticamente escalar sus datos.\n",
    "scaler = StandardScaler()\n",
    "scaler.fit(X_train)  # fit only on training data\n",
    "X_train = scaler.transform(X_train)\n",
    "X_test = scaler.transform(X_test)  # apply same transformation to test data"
   ],
   "metadata": {
    "pycharm": {
     "name": "#%%\n"
    },
    "id": "ZwDQv6RkZY2N"
   }
  },
  {
   "cell_type": "markdown",
   "source": [
    "#### Configuración de la grilla para aplicar validación cruzada"
   ],
   "metadata": {
    "collapsed": false,
    "pycharm": {
     "name": "#%% md\n"
    },
    "id": "BnSbxlx7ZY2O"
   }
  },
  {
   "cell_type": "code",
   "execution_count": 32,
   "outputs": [],
   "source": [
    "param_grid = {\n",
    "    \"loss\": ['hinge','huber','perceptron', 'squared_error'],\n",
    "    \"alpha\": np.power(10, np.arange(-4, 1, dtype=float)),\n",
    "    \"l1_ratio\": np.linspace(0, 1, num=10),\n",
    "    \"eta0\":[1,10,100],\n",
    "}"
   ],
   "metadata": {
    "pycharm": {
     "name": "#%%\n"
    },
    "id": "8p1_AMMKZY2P"
   }
  },
  {
   "cell_type": "markdown",
   "source": [
    "#### Definición del clasificador"
   ],
   "metadata": {
    "collapsed": false,
    "pycharm": {
     "name": "#%% md\n"
    },
    "id": "L_OOJl6XZY2P"
   }
  },
  {
   "cell_type": "code",
   "execution_count": 33,
   "outputs": [],
   "source": [
    "clf = SGDClassifier(penalty='elasticnet', learning_rate= 'constant',random_state=0)"
   ],
   "metadata": {
    "pycharm": {
     "name": "#%%\n"
    },
    "id": "cfZQdXe-ZY2Q"
   }
  },
  {
   "cell_type": "markdown",
   "source": [
    "#### Validación Cruzada con K-Fold=5, metrica = accuracy"
   ],
   "metadata": {
    "collapsed": false,
    "pycharm": {
     "name": "#%% md\n"
    },
    "id": "0ZCbmE_4ZY2R"
   }
  },
  {
   "cell_type": "code",
   "execution_count": 34,
   "outputs": [
    {
     "data": {
      "text/plain": "GridSearchCV(cv=5,\n             estimator=SGDClassifier(learning_rate='constant',\n                                     penalty='elasticnet', random_state=0),\n             param_grid={'alpha': array([1.e-04, 1.e-03, 1.e-02, 1.e-01, 1.e+00]),\n                         'eta0': [1, 10, 100],\n                         'l1_ratio': array([0.        , 0.11111111, 0.22222222, 0.33333333, 0.44444444,\n       0.55555556, 0.66666667, 0.77777778, 0.88888889, 1.        ]),\n                         'loss': ['hinge', 'huber', 'perceptron',\n                                  'squared_error']},\n             scoring='accuracy')",
      "text/html": "<style>#sk-container-id-5 {color: black;background-color: white;}#sk-container-id-5 pre{padding: 0;}#sk-container-id-5 div.sk-toggleable {background-color: white;}#sk-container-id-5 label.sk-toggleable__label {cursor: pointer;display: block;width: 100%;margin-bottom: 0;padding: 0.3em;box-sizing: border-box;text-align: center;}#sk-container-id-5 label.sk-toggleable__label-arrow:before {content: \"▸\";float: left;margin-right: 0.25em;color: #696969;}#sk-container-id-5 label.sk-toggleable__label-arrow:hover:before {color: black;}#sk-container-id-5 div.sk-estimator:hover label.sk-toggleable__label-arrow:before {color: black;}#sk-container-id-5 div.sk-toggleable__content {max-height: 0;max-width: 0;overflow: hidden;text-align: left;background-color: #f0f8ff;}#sk-container-id-5 div.sk-toggleable__content pre {margin: 0.2em;color: black;border-radius: 0.25em;background-color: #f0f8ff;}#sk-container-id-5 input.sk-toggleable__control:checked~div.sk-toggleable__content {max-height: 200px;max-width: 100%;overflow: auto;}#sk-container-id-5 input.sk-toggleable__control:checked~label.sk-toggleable__label-arrow:before {content: \"▾\";}#sk-container-id-5 div.sk-estimator input.sk-toggleable__control:checked~label.sk-toggleable__label {background-color: #d4ebff;}#sk-container-id-5 div.sk-label input.sk-toggleable__control:checked~label.sk-toggleable__label {background-color: #d4ebff;}#sk-container-id-5 input.sk-hidden--visually {border: 0;clip: rect(1px 1px 1px 1px);clip: rect(1px, 1px, 1px, 1px);height: 1px;margin: -1px;overflow: hidden;padding: 0;position: absolute;width: 1px;}#sk-container-id-5 div.sk-estimator {font-family: monospace;background-color: #f0f8ff;border: 1px dotted black;border-radius: 0.25em;box-sizing: border-box;margin-bottom: 0.5em;}#sk-container-id-5 div.sk-estimator:hover {background-color: #d4ebff;}#sk-container-id-5 div.sk-parallel-item::after {content: \"\";width: 100%;border-bottom: 1px solid gray;flex-grow: 1;}#sk-container-id-5 div.sk-label:hover label.sk-toggleable__label {background-color: #d4ebff;}#sk-container-id-5 div.sk-serial::before {content: \"\";position: absolute;border-left: 1px solid gray;box-sizing: border-box;top: 0;bottom: 0;left: 50%;z-index: 0;}#sk-container-id-5 div.sk-serial {display: flex;flex-direction: column;align-items: center;background-color: white;padding-right: 0.2em;padding-left: 0.2em;position: relative;}#sk-container-id-5 div.sk-item {position: relative;z-index: 1;}#sk-container-id-5 div.sk-parallel {display: flex;align-items: stretch;justify-content: center;background-color: white;position: relative;}#sk-container-id-5 div.sk-item::before, #sk-container-id-5 div.sk-parallel-item::before {content: \"\";position: absolute;border-left: 1px solid gray;box-sizing: border-box;top: 0;bottom: 0;left: 50%;z-index: -1;}#sk-container-id-5 div.sk-parallel-item {display: flex;flex-direction: column;z-index: 1;position: relative;background-color: white;}#sk-container-id-5 div.sk-parallel-item:first-child::after {align-self: flex-end;width: 50%;}#sk-container-id-5 div.sk-parallel-item:last-child::after {align-self: flex-start;width: 50%;}#sk-container-id-5 div.sk-parallel-item:only-child::after {width: 0;}#sk-container-id-5 div.sk-dashed-wrapped {border: 1px dashed gray;margin: 0 0.4em 0.5em 0.4em;box-sizing: border-box;padding-bottom: 0.4em;background-color: white;}#sk-container-id-5 div.sk-label label {font-family: monospace;font-weight: bold;display: inline-block;line-height: 1.2em;}#sk-container-id-5 div.sk-label-container {text-align: center;}#sk-container-id-5 div.sk-container {/* jupyter's `normalize.less` sets `[hidden] { display: none; }` but bootstrap.min.css set `[hidden] { display: none !important; }` so we also need the `!important` here to be able to override the default hidden behavior on the sphinx rendered scikit-learn.org. See: https://github.com/scikit-learn/scikit-learn/issues/21755 */display: inline-block !important;position: relative;}#sk-container-id-5 div.sk-text-repr-fallback {display: none;}</style><div id=\"sk-container-id-5\" class=\"sk-top-container\"><div class=\"sk-text-repr-fallback\"><pre>GridSearchCV(cv=5,\n             estimator=SGDClassifier(learning_rate=&#x27;constant&#x27;,\n                                     penalty=&#x27;elasticnet&#x27;, random_state=0),\n             param_grid={&#x27;alpha&#x27;: array([1.e-04, 1.e-03, 1.e-02, 1.e-01, 1.e+00]),\n                         &#x27;eta0&#x27;: [1, 10, 100],\n                         &#x27;l1_ratio&#x27;: array([0.        , 0.11111111, 0.22222222, 0.33333333, 0.44444444,\n       0.55555556, 0.66666667, 0.77777778, 0.88888889, 1.        ]),\n                         &#x27;loss&#x27;: [&#x27;hinge&#x27;, &#x27;huber&#x27;, &#x27;perceptron&#x27;,\n                                  &#x27;squared_error&#x27;]},\n             scoring=&#x27;accuracy&#x27;)</pre><b>In a Jupyter environment, please rerun this cell to show the HTML representation or trust the notebook. <br />On GitHub, the HTML representation is unable to render, please try loading this page with nbviewer.org.</b></div><div class=\"sk-container\" hidden><div class=\"sk-item sk-dashed-wrapped\"><div class=\"sk-label-container\"><div class=\"sk-label sk-toggleable\"><input class=\"sk-toggleable__control sk-hidden--visually\" id=\"sk-estimator-id-13\" type=\"checkbox\" ><label for=\"sk-estimator-id-13\" class=\"sk-toggleable__label sk-toggleable__label-arrow\">GridSearchCV</label><div class=\"sk-toggleable__content\"><pre>GridSearchCV(cv=5,\n             estimator=SGDClassifier(learning_rate=&#x27;constant&#x27;,\n                                     penalty=&#x27;elasticnet&#x27;, random_state=0),\n             param_grid={&#x27;alpha&#x27;: array([1.e-04, 1.e-03, 1.e-02, 1.e-01, 1.e+00]),\n                         &#x27;eta0&#x27;: [1, 10, 100],\n                         &#x27;l1_ratio&#x27;: array([0.        , 0.11111111, 0.22222222, 0.33333333, 0.44444444,\n       0.55555556, 0.66666667, 0.77777778, 0.88888889, 1.        ]),\n                         &#x27;loss&#x27;: [&#x27;hinge&#x27;, &#x27;huber&#x27;, &#x27;perceptron&#x27;,\n                                  &#x27;squared_error&#x27;]},\n             scoring=&#x27;accuracy&#x27;)</pre></div></div></div><div class=\"sk-parallel\"><div class=\"sk-parallel-item\"><div class=\"sk-item\"><div class=\"sk-label-container\"><div class=\"sk-label sk-toggleable\"><input class=\"sk-toggleable__control sk-hidden--visually\" id=\"sk-estimator-id-14\" type=\"checkbox\" ><label for=\"sk-estimator-id-14\" class=\"sk-toggleable__label sk-toggleable__label-arrow\">estimator: SGDClassifier</label><div class=\"sk-toggleable__content\"><pre>SGDClassifier(learning_rate=&#x27;constant&#x27;, penalty=&#x27;elasticnet&#x27;, random_state=0)</pre></div></div></div><div class=\"sk-serial\"><div class=\"sk-item\"><div class=\"sk-estimator sk-toggleable\"><input class=\"sk-toggleable__control sk-hidden--visually\" id=\"sk-estimator-id-15\" type=\"checkbox\" ><label for=\"sk-estimator-id-15\" class=\"sk-toggleable__label sk-toggleable__label-arrow\">SGDClassifier</label><div class=\"sk-toggleable__content\"><pre>SGDClassifier(learning_rate=&#x27;constant&#x27;, penalty=&#x27;elasticnet&#x27;, random_state=0)</pre></div></div></div></div></div></div></div></div></div></div>"
     },
     "execution_count": 34,
     "metadata": {},
     "output_type": "execute_result"
    }
   ],
   "source": [
    "cross_validation = GridSearchCV(clf, param_grid, scoring='accuracy', cv=5)\n",
    "cross_validation.fit(X_train, y_train)"
   ],
   "metadata": {
    "pycharm": {
     "name": "#%%\n"
    },
    "id": "SFvpT3tkZY2R",
    "outputId": "d63deb64-f132-45d9-ca17-699f79b7f2dc"
   }
  },
  {
   "cell_type": "markdown",
   "source": [
    "#### Reporte de resultados para la Validación Cruzada"
   ],
   "metadata": {
    "collapsed": false,
    "pycharm": {
     "name": "#%% md\n"
    },
    "id": "BJiz4Mp2ZY2T"
   }
  },
  {
   "cell_type": "code",
   "execution_count": 35,
   "outputs": [
    {
     "name": "stdout",
     "output_type": "stream",
     "text": [
      "LOSS             ETA0      L1_r    ALPHA      MEAN         STD    RANK\n",
      "-------------  ------  --------  -------  --------  ----------  ------\n",
      "hinge               1  0          0.0001  0.797723  0.0150167      252\n",
      "huber               1  0          0.0001  0.795759  0.0636991      257\n",
      "perceptron          1  0          0.0001  0.828736  0.0292872      125\n",
      "squared_error       1  0          0.0001  0.548976  0.095618       468\n",
      "hinge               1  0.111111   0.0001  0.815263  0.0282821      185\n",
      "huber               1  0.111111   0.0001  0.830769  0.0417892       37\n",
      "perceptron          1  0.111111   0.0001  0.789651  0.0317891      272\n",
      "squared_error       1  0.111111   0.0001  0.475355  0.0756144      542\n",
      "hinge               1  0.222222   0.0001  0.840174  0.0287508       10\n",
      "huber               1  0.222222   0.0001  0.838147  0.0266179       14\n",
      "perceptron          1  0.222222   0.0001  0.815247  0.0166463      187\n",
      "squared_error       1  0.222222   0.0001  0.592791  0.105146       427\n",
      "hinge               1  0.333333   0.0001  0.809148  0.0213955      213\n",
      "huber               1  0.333333   0.0001  0.830089  0.012705       122\n",
      "perceptron          1  0.333333   0.0001  0.813934  0.0477343      193\n",
      "squared_error       1  0.333333   0.0001  0.550291  0.114788       465\n",
      "hinge               1  0.444444   0.0001  0.828733  0.0318455      126\n",
      "huber               1  0.444444   0.0001  0.831461  0.0276563       36\n",
      "perceptron          1  0.444444   0.0001  0.803105  0.0154263      235\n",
      "squared_error       1  0.444444   0.0001  0.571849  0.133258       435\n",
      "hinge               1  0.555556   0.0001  0.813236  0.0276185      197\n",
      "huber               1  0.555556   0.0001  0.820648  0.014805       158\n",
      "perceptron          1  0.555556   0.0001  0.777503  0.0327836      291\n",
      "squared_error       1  0.555556   0.0001  0.549634  0.099473       466\n",
      "hinge               1  0.666667   0.0001  0.834798  0.0270984       23\n",
      "huber               1  0.666667   0.0001  0.834127  0.0125824       26\n",
      "perceptron          1  0.666667   0.0001  0.824713  0.0442087      140\n",
      "squared_error       1  0.666667   0.0001  0.556925  0.127941       458\n",
      "hinge               1  0.777778   0.0001  0.80243   0.0126726      237\n",
      "huber               1  0.777778   0.0001  0.841532  0.0102938        4\n",
      "perceptron          1  0.777778   0.0001  0.786862  0.0503568      277\n",
      "squared_error       1  0.777778   0.0001  0.459871  0.145892       555\n",
      "hinge               1  0.888889   0.0001  0.78969   0.0483613      271\n",
      "huber               1  0.888889   0.0001  0.836814  0.00513812      15\n",
      "perceptron          1  0.888889   0.0001  0.797777  0.0856664      251\n",
      "squared_error       1  0.888889   0.0001  0.397036  0.112404       586\n",
      "hinge               1  1          0.0001  0.819299  0.0140679      168\n",
      "huber               1  1          0.0001  0.840179  0.00886254       9\n",
      "perceptron          1  1          0.0001  0.80652   0.0307354      224\n",
      "squared_error       1  1          0.0001  0.51105   0.112867       509\n",
      "hinge              10  0          0.0001  0.786284  0.0380905      278\n",
      "huber              10  0          0.0001  0.622334  0.0929244      413\n",
      "perceptron         10  0          0.0001  0.792322  0.0246491      264\n",
      "squared_error      10  0          0.0001  0.515991  0.100197       503\n",
      "hinge              10  0.111111   0.0001  0.791023  0.0454619      269\n",
      "huber              10  0.111111   0.0001  0.672359  0.2248         404\n",
      "perceptron         10  0.111111   0.0001  0.824666  0.00979622     145\n",
      "squared_error      10  0.111111   0.0001  0.426724  0.126388       577\n",
      "hinge              10  0.222222   0.0001  0.797661  0.0507159      253\n",
      "huber              10  0.222222   0.0001  0.614271  0.179944       417\n",
      "perceptron         10  0.222222   0.0001  0.779484  0.0361907      287\n",
      "squared_error      10  0.222222   0.0001  0.458543  0.0826216      556\n",
      "hinge              10  0.333333   0.0001  0.828028  0.0210744      129\n",
      "huber              10  0.333333   0.0001  0.77743   0.0573108      292\n",
      "perceptron         10  0.333333   0.0001  0.813932  0.0448652      194\n",
      "squared_error      10  0.333333   0.0001  0.531975  0.0703917      487\n",
      "hinge              10  0.444444   0.0001  0.817945  0.0283417      173\n",
      "huber              10  0.444444   0.0001  0.67032   0.139402       406\n",
      "perceptron         10  0.444444   0.0001  0.815258  0.016772       186\n",
      "squared_error      10  0.444444   0.0001  0.517256  0.0893515      500\n",
      "hinge              10  0.555556   0.0001  0.803763  0.0270308      233\n",
      "huber              10  0.555556   0.0001  0.746977  0.131275       336\n",
      "perceptron         10  0.555556   0.0001  0.809839  0.0144955      210\n",
      "squared_error      10  0.555556   0.0001  0.488234  0.0753272      534\n",
      "hinge              10  0.666667   0.0001  0.791043  0.0688879      268\n",
      "huber              10  0.666667   0.0001  0.809155  0.0283852      212\n",
      "perceptron         10  0.666667   0.0001  0.815945  0.0451921      178\n",
      "squared_error      10  0.666667   0.0001  0.472068  0.0889311      548\n",
      "hinge              10  0.777778   0.0001  0.796344  0.0289409      256\n",
      "huber              10  0.777778   0.0001  0.7316    0.110488       340\n",
      "perceptron         10  0.777778   0.0001  0.827398  0.0175629      131\n",
      "squared_error      10  0.777778   0.0001  0.53552   0.132663       481\n",
      "hinge              10  0.888889   0.0001  0.80041   0.026164       245\n",
      "huber              10  0.888889   0.0001  0.820648  0.0197865      158\n",
      "perceptron         10  0.888889   0.0001  0.82399   0.0220316      146\n",
      "squared_error      10  0.888889   0.0001  0.480599  0.127347       539\n",
      "hinge              10  1          0.0001  0.772677  0.0707789      308\n",
      "huber              10  1          0.0001  0.757988  0.0860429      327\n",
      "perceptron         10  1          0.0001  0.80652   0.0307354      224\n",
      "squared_error      10  1          0.0001  0.49965   0.0670672      520\n",
      "hinge             100  0          0.0001  0.813898  0.0163488      195\n",
      "huber             100  0          0.0001  0.542067  0.0811053      475\n",
      "perceptron        100  0          0.0001  0.76337   0.046901       319\n",
      "squared_error     100  0          0.0001  0.455019  0.165985       559\n",
      "hinge             100  0.111111   0.0001  0.782883  0.0451705      284\n",
      "huber             100  0.111111   0.0001  0.575937  0.202668       434\n",
      "perceptron        100  0.111111   0.0001  0.807121  0.0197368      220\n",
      "squared_error     100  0.111111   0.0001  0.523958  0.0936341      491\n",
      "hinge             100  0.222222   0.0001  0.801128  0.0483495      241\n",
      "huber             100  0.222222   0.0001  0.537735  0.303224       479\n",
      "perceptron        100  0.222222   0.0001  0.793648  0.036943       262\n",
      "squared_error     100  0.222222   0.0001  0.567786  0.0719285      438\n",
      "hinge             100  0.333333   0.0001  0.805103  0.0290966      230\n",
      "huber             100  0.333333   0.0001  0.4002    0.243849       583\n",
      "perceptron        100  0.333333   0.0001  0.800371  0.0342446      246\n",
      "squared_error     100  0.333333   0.0001  0.474807  0.13505        544\n",
      "hinge             100  0.444444   0.0001  0.755947  0.0655259      330\n",
      "huber             100  0.444444   0.0001  0.382055  0.259721       591\n",
      "perceptron        100  0.444444   0.0001  0.805128  0.0287634      228\n",
      "squared_error     100  0.444444   0.0001  0.513807  0.116547       506\n",
      "hinge             100  0.555556   0.0001  0.797097  0.0620934      254\n",
      "huber             100  0.555556   0.0001  0.606575  0.23174        420\n",
      "perceptron        100  0.555556   0.0001  0.82063   0.0324252      160\n",
      "squared_error     100  0.555556   0.0001  0.554996  0.0770171      460\n",
      "hinge             100  0.666667   0.0001  0.8159    0.0250275      180\n",
      "huber             100  0.666667   0.0001  0.616548  0.253345       415\n",
      "perceptron        100  0.666667   0.0001  0.799024  0.0495003      250\n",
      "squared_error     100  0.666667   0.0001  0.33314   0.105416       594\n",
      "hinge             100  0.777778   0.0001  0.803058  0.0489213      236\n",
      "huber             100  0.777778   0.0001  0.636366  0.247943       408\n",
      "perceptron        100  0.777778   0.0001  0.824702  0.0372261      142\n",
      "squared_error     100  0.777778   0.0001  0.398496  0.066335       584\n",
      "hinge             100  0.888889   0.0001  0.779473  0.0346869      288\n",
      "huber             100  0.888889   0.0001  0.616319  0.280401       416\n",
      "perceptron        100  0.888889   0.0001  0.772047  0.0442304      309\n",
      "squared_error     100  0.888889   0.0001  0.56383   0.133063       452\n",
      "hinge             100  1          0.0001  0.774083  0.0844587      305\n",
      "huber             100  1          0.0001  0.565429  0.324215       444\n",
      "perceptron        100  1          0.0001  0.80652   0.0307354      224\n",
      "squared_error     100  1          0.0001  0.532724  0.0508295      485\n",
      "hinge               1  0          0.001   0.83885   0.0166031       13\n",
      "huber               1  0          0.001   0.794338  0.0314326      260\n",
      "perceptron          1  0          0.001   0.792322  0.0246491      264\n",
      "squared_error       1  0          0.001   0.509168  0.0722673      510\n",
      "hinge               1  0.111111   0.001   0.801074  0.0393904      244\n",
      "huber               1  0.111111   0.001   0.827384  0.0137759      132\n",
      "perceptron          1  0.111111   0.001   0.801115  0.0233553      242\n",
      "squared_error       1  0.111111   0.001   0.51651   0.109729       501\n",
      "hinge               1  0.222222   0.001   0.819949  0.0324678      164\n",
      "huber               1  0.222222   0.001   0.840852  0.0134996        7\n",
      "perceptron          1  0.222222   0.001   0.782203  0.0775142      286\n",
      "squared_error       1  0.222222   0.001   0.473332  0.0512115      546\n",
      "hinge               1  0.333333   0.001   0.823355  0.0189356      148\n",
      "huber               1  0.333333   0.001   0.834116  0.00507844      28\n",
      "perceptron          1  0.333333   0.001   0.811891  0.0267514      201\n",
      "squared_error       1  0.333333   0.001   0.449008  0.157938       562\n",
      "hinge               1  0.444444   0.001   0.8024    0.0277307      239\n",
      "huber               1  0.444444   0.001   0.828055  0.00843212     128\n",
      "perceptron          1  0.444444   0.001   0.786901  0.0364586      276\n",
      "squared_error       1  0.444444   0.001   0.497764  0.0790327      524\n",
      "hinge               1  0.555556   0.001   0.805123  0.00499779     229\n",
      "huber               1  0.555556   0.001   0.85167   0.018828         2\n",
      "perceptron          1  0.555556   0.001   0.821995  0.0237147      153\n",
      "squared_error       1  0.555556   0.001   0.497666  0.128909       525\n",
      "hinge               1  0.666667   0.001   0.826722  0.0297187      133\n",
      "huber               1  0.666667   0.001   0.84019   0.0130806        8\n",
      "perceptron          1  0.666667   0.001   0.827414  0.0275214      130\n",
      "squared_error       1  0.666667   0.001   0.511894  0.0763548      507\n",
      "hinge               1  0.777778   0.001   0.802421  0.0198913      238\n",
      "huber               1  0.777778   0.001   0.834109  0.00774666      29\n",
      "perceptron          1  0.777778   0.001   0.853681  0.0129954        1\n",
      "squared_error       1  0.777778   0.001   0.538691  0.0591157      477\n",
      "hinge               1  0.888889   0.001   0.820018  0.0392135      161\n",
      "huber               1  0.888889   0.001   0.835467  0.00782703      21\n",
      "perceptron          1  0.888889   0.001   0.801083  0.0492383      243\n",
      "squared_error       1  0.888889   0.001   0.540186  0.0522846      476\n",
      "hinge               1  1          0.001   0.823319  0.024211       149\n",
      "huber               1  1          0.001   0.833465  0.0203719       30\n",
      "perceptron          1  1          0.001   0.815281  0.0389666      182\n",
      "squared_error       1  1          0.001   0.448355  0.0578687      563\n",
      "hinge              10  0          0.001   0.807107  0.0456994      221\n",
      "huber              10  0          0.001   0.503014  0.0935878      517\n",
      "perceptron         10  0          0.001   0.76337   0.046901       319\n",
      "squared_error      10  0          0.001   0.50708   0.0456949      512\n",
      "hinge              10  0.111111   0.001   0.808436  0.0399481      214\n",
      "huber              10  0.111111   0.001   0.768084  0.08236        311\n",
      "perceptron         10  0.111111   0.001   0.795643  0.0290277      258\n",
      "squared_error      10  0.111111   0.001   0.537376  0.0617621      480\n",
      "hinge              10  0.222222   0.001   0.826028  0.041547       137\n",
      "huber              10  0.222222   0.001   0.487513  0.216431       536\n",
      "perceptron         10  0.222222   0.001   0.766685  0.0940976      313\n",
      "squared_error      10  0.222222   0.001   0.42692   0.139711       576\n",
      "hinge              10  0.333333   0.001   0.784862  0.0664887      283\n",
      "huber              10  0.333333   0.001   0.733015  0.0809704      339\n",
      "perceptron         10  0.333333   0.001   0.815238  0.0236336      189\n",
      "squared_error      10  0.333333   0.001   0.490991  0.0809762      532\n",
      "hinge              10  0.444444   0.001   0.813204  0.0302433      198\n",
      "huber              10  0.444444   0.001   0.810495  0.0200706      209\n",
      "perceptron         10  0.444444   0.001   0.824707  0.0433067      141\n",
      "squared_error      10  0.444444   0.001   0.542893  0.138717       473\n",
      "hinge              10  0.555556   0.001   0.807842  0.0343898      216\n",
      "huber              10  0.555556   0.001   0.570823  0.24942        436\n",
      "perceptron         10  0.555556   0.001   0.813862  0.0227452      196\n",
      "squared_error      10  0.555556   0.001   0.493644  0.0709053      528\n",
      "hinge              10  0.666667   0.001   0.774101  0.081384       304\n",
      "huber              10  0.666667   0.001   0.671744  0.244358       405\n",
      "perceptron         10  0.666667   0.001   0.803774  0.0169768      232\n",
      "squared_error      10  0.666667   0.001   0.493491  0.0992605      529\n",
      "hinge              10  0.777778   0.001   0.806497  0.0467879      227\n",
      "huber              10  0.777778   0.001   0.796419  0.0710564      255\n",
      "perceptron         10  0.777778   0.001   0.809837  0.0387239      211\n",
      "squared_error      10  0.777778   0.001   0.522108  0.123533       496\n",
      "hinge              10  0.888889   0.001   0.819301  0.0250673      167\n",
      "huber              10  0.888889   0.001   0.76135   0.102416       325\n",
      "perceptron         10  0.888889   0.001   0.773419  0.0429383      306\n",
      "squared_error      10  0.888889   0.001   0.465854  0.12037        552\n",
      "hinge              10  1          0.001   0.813172  0.0290349      199\n",
      "huber              10  1          0.001   0.564082  0.320427       449\n",
      "perceptron         10  1          0.001   0.815281  0.0389666      182\n",
      "squared_error      10  1          0.001   0.551101  0.134841       463\n",
      "hinge             100  0          0.001   0.719574  0.0603474      341\n",
      "huber             100  0          0.001   0.570634  0.19225        437\n",
      "perceptron        100  0          0.001   0.719574  0.0603474      341\n",
      "squared_error     100  0          0.001   0.590165  0.101624       429\n",
      "hinge             100  0.111111   0.001   0.834125  0.0323199       27\n",
      "huber             100  0.111111   0.001   0.418855  0.306167       581\n",
      "perceptron        100  0.111111   0.001   0.807867  0.0667647      215\n",
      "squared_error     100  0.111111   0.001   0.487544  0.0715132      535\n",
      "hinge             100  0.222222   0.001   0.838857  0.0217574       12\n",
      "huber             100  0.222222   0.001   0.499452  0.292192       521\n",
      "perceptron        100  0.222222   0.001   0.828708  0.0207735      127\n",
      "squared_error     100  0.222222   0.001   0.467256  0.0541449      550\n",
      "hinge             100  0.333333   0.001   0.767274  0.0778678      312\n",
      "huber             100  0.333333   0.001   0.565884  0.324123       441\n",
      "perceptron        100  0.333333   0.001   0.825357  0.0140144      138\n",
      "squared_error     100  0.333333   0.001   0.633807  0.0728525      411\n",
      "hinge             100  0.444444   0.001   0.758602  0.0430727      326\n",
      "huber             100  0.444444   0.001   0.433224  0.32394        575\n",
      "perceptron        100  0.444444   0.001   0.791555  0.0559004      267\n",
      "squared_error     100  0.444444   0.001   0.532676  0.0434631      486\n",
      "hinge             100  0.555556   0.001   0.810522  0.0331667      205\n",
      "huber             100  0.555556   0.001   0.301684  0.264702       597\n",
      "perceptron        100  0.555556   0.001   0.776749  0.0491164      293\n",
      "squared_error     100  0.555556   0.001   0.476229  0.128526       541\n",
      "hinge             100  0.666667   0.001   0.778736  0.105829       289\n",
      "huber             100  0.666667   0.001   0.531197  0.266935       488\n",
      "perceptron        100  0.666667   0.001   0.805096  0.0505317      231\n",
      "squared_error     100  0.666667   0.001   0.565192  0.107202       447\n",
      "hinge             100  0.777778   0.001   0.71661   0.144943       345\n",
      "huber             100  0.777778   0.001   0.301911  0.264872       595\n",
      "perceptron        100  0.777778   0.001   0.78279   0.055672       285\n",
      "squared_error     100  0.777778   0.001   0.461967  0.0656357      553\n",
      "hinge             100  0.888889   0.001   0.774768  0.0766593      301\n",
      "huber             100  0.888889   0.001   0.301911  0.264872       595\n",
      "perceptron        100  0.888889   0.001   0.803144  0.0825159      234\n",
      "squared_error     100  0.888889   0.001   0.46593   0.147956       551\n",
      "hinge             100  1          0.001   0.788989  0.0471814      273\n",
      "huber             100  1          0.001   0.434571  0.324215       571\n",
      "perceptron        100  1          0.001   0.815281  0.0389666      182\n",
      "squared_error     100  1          0.001   0.414537  0.112321       582\n",
      "hinge               1  0          0.01    0.785579  0.0134336      279\n",
      "huber               1  0          0.01    0.824688  0.0164078      143\n",
      "perceptron          1  0          0.01    0.76337   0.046901       319\n",
      "squared_error       1  0          0.01    0.600127  0.100399       424\n",
      "hinge               1  0.111111   0.01    0.834801  0.0194032       22\n",
      "huber               1  0.111111   0.01    0.848953  0.0058246        3\n",
      "perceptron          1  0.111111   0.01    0.788227  0.0386764      274\n",
      "squared_error       1  0.111111   0.01    0.502434  0.13597        518\n",
      "hinge               1  0.222222   0.01    0.821362  0.0387246      157\n",
      "huber               1  0.222222   0.01    0.836148  0.00806545      18\n",
      "perceptron          1  0.222222   0.01    0.800321  0.0539357      248\n",
      "squared_error       1  0.222222   0.01    0.504409  0.0702893      513\n",
      "hinge               1  0.333333   0.01    0.816617  0.0237961      175\n",
      "huber               1  0.333333   0.01    0.834798  0.00698274      23\n",
      "perceptron          1  0.333333   0.01    0.822668  0.0157551      152\n",
      "squared_error       1  0.333333   0.01    0.501729  0.0445854      519\n",
      "hinge               1  0.444444   0.01    0.784937  0.0384494      282\n",
      "huber               1  0.444444   0.01    0.840859  0.0125506        6\n",
      "perceptron          1  0.444444   0.01    0.816555  0.0282332      177\n",
      "squared_error       1  0.444444   0.01    0.611038  0.0950755      418\n",
      "hinge               1  0.555556   0.01    0.823314  0.0291826      150\n",
      "huber               1  0.555556   0.01    0.832116  0.0165078       33\n",
      "perceptron          1  0.555556   0.01    0.791562  0.0604535      266\n",
      "squared_error       1  0.555556   0.01    0.496251  0.102305       527\n",
      "hinge               1  0.666667   0.01    0.795054  0.0386361      259\n",
      "huber               1  0.666667   0.01    0.832096  0.00148253      35\n",
      "perceptron          1  0.666667   0.01    0.825309  0.0337817      139\n",
      "squared_error       1  0.666667   0.01    0.543696  0.162413       472\n",
      "hinge               1  0.777778   0.01    0.81519   0.0300536      190\n",
      "huber               1  0.777778   0.01    0.835474  0.00640281      20\n",
      "perceptron          1  0.777778   0.01    0.815936  0.0416613      179\n",
      "squared_error       1  0.777778   0.01    0.523362  0.0873201      492\n",
      "hinge               1  0.888889   0.01    0.834794  0.00955297      25\n",
      "huber               1  0.888889   0.01    0.83615   0.00772738      17\n",
      "perceptron          1  0.888889   0.01    0.746374  0.0778742      337\n",
      "squared_error       1  0.888889   0.01    0.474081  0.10301        545\n",
      "hinge               1  1          0.01    0.810513  0.0298536      207\n",
      "huber               1  1          0.01    0.830749  0.00125901      38\n",
      "perceptron          1  1          0.01    0.764671  0.0708463      316\n",
      "squared_error       1  1          0.01    0.608292  0.0408744      419\n",
      "hinge              10  0          0.01    0.774793  0.0612459      300\n",
      "huber              10  0          0.01    0.520841  0.178456       498\n",
      "perceptron         10  0          0.01    0.719574  0.0603474      341\n",
      "squared_error      10  0          0.01    0.52333   0.17583        493\n",
      "hinge              10  0.111111   0.01    0.82606   0.0219754      136\n",
      "huber              10  0.111111   0.01    0.688625  0.263951       395\n",
      "perceptron         10  0.111111   0.01    0.700494  0.179373       349\n",
      "squared_error      10  0.111111   0.01    0.455142  0.177156       558\n",
      "hinge              10  0.222222   0.01    0.793013  0.0674158      263\n",
      "huber              10  0.222222   0.01    0.811179  0.0247211      204\n",
      "perceptron         10  0.222222   0.01    0.757144  0.0900324      329\n",
      "squared_error      10  0.222222   0.01    0.440447  0.110444       567\n",
      "hinge              10  0.333333   0.01    0.747058  0.112568       335\n",
      "huber              10  0.333333   0.01    0.824688  0.0117298      143\n",
      "perceptron         10  0.333333   0.01    0.784985  0.0605226      280\n",
      "squared_error      10  0.333333   0.01    0.516485  0.0427234      502\n",
      "hinge              10  0.444444   0.01    0.819303  0.0376796      166\n",
      "huber              10  0.444444   0.01    0.66936   0.257096       407\n",
      "perceptron         10  0.444444   0.01    0.817283  0.0609266      174\n",
      "squared_error      10  0.444444   0.01    0.522566  0.191717       495\n",
      "hinge              10  0.555556   0.01    0.806534  0.0737254      223\n",
      "huber              10  0.555556   0.01    0.839503  0.0162774       11\n",
      "perceptron         10  0.555556   0.01    0.7573    0.0630522      328\n",
      "squared_error      10  0.555556   0.01    0.498958  0.14512        522\n",
      "hinge              10  0.666667   0.01    0.762035  0.0829655      324\n",
      "huber              10  0.666667   0.01    0.82672   0.0174833      134\n",
      "perceptron         10  0.666667   0.01    0.7661    0.0711678      314\n",
      "squared_error      10  0.666667   0.01    0.504325  0.115884       514\n",
      "hinge              10  0.777778   0.01    0.79907   0.0270638      249\n",
      "huber              10  0.777778   0.01    0.83681   0.00801252      16\n",
      "perceptron         10  0.777778   0.01    0.794335  0.0700877      261\n",
      "squared_error      10  0.777778   0.01    0.546856  0.0355457      470\n",
      "hinge              10  0.888889   0.01    0.81254   0.0424078      200\n",
      "huber              10  0.888889   0.01    0.830749  0.00125901      38\n",
      "perceptron         10  0.888889   0.01    0.79032   0.0616375      270\n",
      "squared_error      10  0.888889   0.01    0.517959  0.064185       499\n",
      "hinge              10  1          0.01    0.815245  0.0303541      188\n",
      "huber              10  1          0.01    0.562722  0.320718       454\n",
      "perceptron         10  1          0.01    0.764671  0.0708463      316\n",
      "squared_error      10  1          0.01    0.503731  0.0751375      515\n",
      "hinge             100  0          0.01    0.821965  0.0174462      154\n",
      "huber             100  0          0.01    0.390249  0.120903       588\n",
      "perceptron        100  0          0.01    0.776174  0.0883446      294\n",
      "squared_error     100  0          0.01    0.559778  0.147441       455\n",
      "hinge             100  0.111111   0.01    0.697416  0.266219       393\n",
      "huber             100  0.111111   0.01    0.169251  0.00125901     599\n",
      "perceptron        100  0.111111   0.01    0.818587  0.0241905      169\n",
      "squared_error     100  0.111111   0.01    0.425328  0.110169       578\n",
      "hinge             100  0.222222   0.01    0.689298  0.256259       394\n",
      "huber             100  0.222222   0.01    0.169251  0.00125901     599\n",
      "perceptron        100  0.222222   0.01    0.680583  0.258513       400\n",
      "squared_error     100  0.222222   0.01    0.563841  0.14589        450\n",
      "hinge             100  0.333333   0.01    0.597047  0.231143       426\n",
      "huber             100  0.333333   0.01    0.567003  0.323893       439\n",
      "perceptron        100  0.333333   0.01    0.752594  0.0991623      334\n",
      "squared_error     100  0.333333   0.01    0.472088  0.12853        547\n",
      "hinge             100  0.444444   0.01    0.68526   0.214025       399\n",
      "huber             100  0.444444   0.01    0.434343  0.324169       572\n",
      "perceptron        100  0.444444   0.01    0.617875  0.216566       414\n",
      "squared_error     100  0.444444   0.01    0.493173  0.189513       530\n",
      "hinge             100  0.555556   0.01    0.754614  0.123629       333\n",
      "huber             100  0.555556   0.01    0.567003  0.323893       439\n",
      "perceptron        100  0.555556   0.01    0.673856  0.137407       402\n",
      "squared_error     100  0.555556   0.01    0.52126   0.160457       497\n",
      "hinge             100  0.666667   0.01    0.673132  0.184264       403\n",
      "huber             100  0.666667   0.01    0.301684  0.264702       597\n",
      "perceptron        100  0.666667   0.01    0.823301  0.0282349      151\n",
      "squared_error     100  0.666667   0.01    0.507774  0.138177       511\n",
      "hinge             100  0.777778   0.01    0.755287  0.0844776      332\n",
      "huber             100  0.777778   0.01    0.434343  0.324169       572\n",
      "perceptron        100  0.777778   0.01    0.714883  0.127199       346\n",
      "squared_error     100  0.777778   0.01    0.442304  0.141256       566\n",
      "hinge             100  0.888889   0.01    0.819936  0.0249477      165\n",
      "huber             100  0.888889   0.01    0.565657  0.324169       442\n",
      "perceptron        100  0.888889   0.01    0.829416  0.0188712      124\n",
      "squared_error     100  0.888889   0.01    0.45182   0.0277027      561\n",
      "hinge             100  1          0.01    0.787597  0.0141014      275\n",
      "huber             100  1          0.01    0.434343  0.324169       572\n",
      "perceptron        100  1          0.01    0.764671  0.0708463      316\n",
      "squared_error     100  1          0.01    0.522657  0.098553       494\n",
      "hinge               1  0          0.1     0.772775  0.0338342      307\n",
      "huber               1  0          0.1     0.819965  0.0163744      162\n",
      "perceptron          1  0          0.1     0.719574  0.0603474      341\n",
      "squared_error       1  0          0.1     0.422061  0.17296        579\n",
      "hinge               1  0.111111   0.1     0.829425  0.0265902      123\n",
      "huber               1  0.111111   0.1     0.830749  0.00125901      38\n",
      "perceptron          1  0.111111   0.1     0.814555  0.0350952      192\n",
      "squared_error       1  0.111111   0.1     0.503049  0.0904405      516\n",
      "hinge               1  0.222222   0.1     0.823364  0.027467       147\n",
      "huber               1  0.222222   0.1     0.830749  0.00125901      38\n",
      "perceptron          1  0.222222   0.1     0.810506  0.0292048      208\n",
      "squared_error       1  0.222222   0.1     0.353174  0.110748       593\n",
      "hinge               1  0.333333   0.1     0.833454  0.0185702       31\n",
      "huber               1  0.333333   0.1     0.830749  0.00125901      38\n",
      "perceptron          1  0.333333   0.1     0.784971  0.103211       281\n",
      "squared_error       1  0.333333   0.1     0.445038  0.0661586      564\n",
      "hinge               1  0.444444   0.1     0.840861  0.0133996        5\n",
      "huber               1  0.444444   0.1     0.830749  0.00125901      38\n",
      "perceptron          1  0.444444   0.1     0.763361  0.103073       322\n",
      "squared_error       1  0.444444   0.1     0.549015  0.119289       467\n",
      "hinge               1  0.555556   0.1     0.814596  0.0288678      191\n",
      "huber               1  0.555556   0.1     0.830749  0.00125901      38\n",
      "perceptron          1  0.555556   0.1     0.763361  0.103073       322\n",
      "squared_error       1  0.555556   0.1     0.544247  0.107585       471\n",
      "hinge               1  0.666667   0.1     0.832776  0.00613421      32\n",
      "huber               1  0.666667   0.1     0.830749  0.00125901      38\n",
      "perceptron          1  0.666667   0.1     0.8321    0.00884692      34\n",
      "squared_error       1  0.666667   0.1     0.48681   0.168998       538\n",
      "hinge               1  0.777778   0.1     0.826715  0.0199539      135\n",
      "huber               1  0.777778   0.1     0.830749  0.00125901      38\n",
      "perceptron          1  0.777778   0.1     0.770102  0.107645       310\n",
      "squared_error       1  0.777778   0.1     0.480116  0.0209329      540\n",
      "hinge               1  0.888889   0.1     0.835485  0.0136794       19\n",
      "huber               1  0.888889   0.1     0.830749  0.00125901      38\n",
      "perceptron          1  0.888889   0.1     0.81656   0.0234726      176\n",
      "squared_error       1  0.888889   0.1     0.440406  0.171376       568\n",
      "hinge               1  1          0.1     0.815895  0.0225015      181\n",
      "huber               1  1          0.1     0.830749  0.00125901      38\n",
      "perceptron          1  1          0.1     0.811853  0.0252186      202\n",
      "squared_error       1  1          0.1     0.587403  0.0532168      431\n",
      "hinge              10  0          0.1     0.774154  0.0923148      302\n",
      "huber              10  0          0.1     0.515857  0.138674       504\n",
      "perceptron         10  0          0.1     0.776174  0.0883446      294\n",
      "squared_error      10  0          0.1     0.533556  0.171052       483\n",
      "hinge              10  0.111111   0.1     0.552594  0.315857       462\n",
      "huber              10  0.111111   0.1     0.699436  0.263859       350\n",
      "perceptron         10  0.111111   0.1     0.42128   0.310379       580\n",
      "squared_error      10  0.111111   0.1     0.588782  0.101852       430\n",
      "hinge              10  0.222222   0.1     0.687947  0.255811       396\n",
      "huber              10  0.222222   0.1     0.830749  0.00125901      38\n",
      "perceptron         10  0.222222   0.1     0.687274  0.257152       398\n",
      "squared_error      10  0.222222   0.1     0.394997  0.126501       587\n",
      "hinge              10  0.333333   0.1     0.687947  0.255811       396\n",
      "huber              10  0.333333   0.1     0.830749  0.00125901      38\n",
      "perceptron         10  0.333333   0.1     0.68054   0.25379        401\n",
      "squared_error      10  0.333333   0.1     0.554889  0.0863957      461\n",
      "hinge              10  0.444444   0.1     0.818587  0.0241905      169\n",
      "huber              10  0.444444   0.1     0.830749  0.00125901      38\n",
      "perceptron         10  0.444444   0.1     0.634075  0.24783        410\n",
      "squared_error      10  0.444444   0.1     0.457742  0.111962       557\n",
      "hinge              10  0.555556   0.1     0.766062  0.101235       315\n",
      "huber              10  0.555556   0.1     0.830749  0.00125901      38\n",
      "perceptron         10  0.555556   0.1     0.818587  0.0241905      169\n",
      "squared_error      10  0.555556   0.1     0.556818  0.161483       459\n",
      "hinge              10  0.666667   0.1     0.778183  0.0778429      290\n",
      "huber              10  0.666667   0.1     0.830749  0.00125901      38\n",
      "perceptron         10  0.666667   0.1     0.8071    0.0287386      222\n",
      "squared_error      10  0.666667   0.1     0.592618  0.158924       428\n",
      "hinge              10  0.777778   0.1     0.800366  0.0268702      247\n",
      "huber              10  0.777778   0.1     0.830749  0.00125901      38\n",
      "perceptron         10  0.777778   0.1     0.801752  0.0253803      240\n",
      "squared_error      10  0.777778   0.1     0.46865   0.0701302      549\n",
      "hinge              10  0.888889   0.1     0.818587  0.0241905      169\n",
      "huber              10  0.888889   0.1     0.830749  0.00125901      38\n",
      "perceptron         10  0.888889   0.1     0.811853  0.0252186      202\n",
      "squared_error      10  0.888889   0.1     0.54209   0.0837973      474\n",
      "hinge              10  1          0.1     0.819961  0.0149878      163\n",
      "huber              10  1          0.1     0.830749  0.00125901      38\n",
      "perceptron         10  1          0.1     0.807812  0.028993       217\n",
      "squared_error      10  1          0.1     0.511755  0.0942778      508\n",
      "hinge             100  0          0.1     0.821965  0.0174462      154\n",
      "huber             100  0          0.1     0.390249  0.120903       588\n",
      "perceptron        100  0          0.1     0.776174  0.0883446      294\n",
      "squared_error     100  0          0.1     0.559778  0.147441       455\n",
      "hinge             100  0.111111   0.1     0.565429  0.324215       444\n",
      "huber             100  0.111111   0.1     0.565657  0.324169       442\n",
      "perceptron        100  0.111111   0.1     0.565429  0.324215       444\n",
      "squared_error     100  0.111111   0.1     0.563093  0.105347       453\n",
      "hinge             100  0.222222   0.1     0.701467  0.266649       347\n",
      "huber             100  0.222222   0.1     0.699436  0.263859       350\n",
      "perceptron        100  0.222222   0.1     0.701467  0.266649       347\n",
      "squared_error     100  0.222222   0.1     0.475234  0.146579       543\n",
      "hinge             100  0.333333   0.1     0.698089  0.264872       352\n",
      "huber             100  0.333333   0.1     0.830749  0.00125901      38\n",
      "perceptron        100  0.333333   0.1     0.830749  0.00125901      38\n",
      "squared_error     100  0.333333   0.1     0.635288  0.0959466      409\n",
      "hinge             100  0.444444   0.1     0.830749  0.00125901      38\n",
      "huber             100  0.444444   0.1     0.830749  0.00125901      38\n",
      "perceptron        100  0.444444   0.1     0.830749  0.00125901      38\n",
      "squared_error     100  0.444444   0.1     0.526777  0.143092       490\n",
      "hinge             100  0.555556   0.1     0.830749  0.00125901      38\n",
      "huber             100  0.555556   0.1     0.830749  0.00125901      38\n",
      "perceptron        100  0.555556   0.1     0.830749  0.00125901      38\n",
      "squared_error     100  0.555556   0.1     0.535338  0.0662017      482\n",
      "hinge             100  0.666667   0.1     0.830749  0.00125901      38\n",
      "huber             100  0.666667   0.1     0.830749  0.00125901      38\n",
      "perceptron        100  0.666667   0.1     0.830749  0.00125901      38\n",
      "squared_error     100  0.666667   0.1     0.585363  0.12954        432\n",
      "hinge             100  0.777778   0.1     0.830749  0.00125901      38\n",
      "huber             100  0.777778   0.1     0.830749  0.00125901      38\n",
      "perceptron        100  0.777778   0.1     0.830749  0.00125901      38\n",
      "squared_error     100  0.777778   0.1     0.563834  0.171178       451\n",
      "hinge             100  0.888889   0.1     0.830749  0.00125901      38\n",
      "huber             100  0.888889   0.1     0.830749  0.00125901      38\n",
      "perceptron        100  0.888889   0.1     0.830749  0.00125901      38\n",
      "squared_error     100  0.888889   0.1     0.497088  0.100398       526\n",
      "hinge             100  1          0.1     0.810515  0.0315529      206\n",
      "huber             100  1          0.1     0.830749  0.00125901      38\n",
      "perceptron        100  1          0.1     0.807812  0.028993       217\n",
      "squared_error     100  1          0.1     0.492156  0.109913       531\n",
      "hinge               1  0          1       0.755328  0.0916662      331\n",
      "huber               1  0          1       0.807184  0.050154       219\n",
      "perceptron          1  0          1       0.776174  0.0883446      294\n",
      "squared_error       1  0          1       0.537872  0.183873       478\n",
      "hinge               1  0.111111   1       0.830749  0.00125901      38\n",
      "huber               1  0.111111   1       0.830749  0.00125901      38\n",
      "perceptron          1  0.111111   1       0.830749  0.00125901      38\n",
      "squared_error       1  0.111111   1       0.358042  0.142805       592\n",
      "hinge               1  0.222222   1       0.830749  0.00125901      38\n",
      "huber               1  0.222222   1       0.830749  0.00125901      38\n",
      "perceptron          1  0.222222   1       0.698089  0.264872       352\n",
      "squared_error       1  0.222222   1       0.582364  0.196716       433\n",
      "hinge               1  0.333333   1       0.830749  0.00125901      38\n",
      "huber               1  0.333333   1       0.830749  0.00125901      38\n",
      "perceptron          1  0.333333   1       0.698089  0.264872       352\n",
      "squared_error       1  0.333333   1       0.736982  0.106461       338\n",
      "hinge               1  0.444444   1       0.830749  0.00125901      38\n",
      "huber               1  0.444444   1       0.830749  0.00125901      38\n",
      "perceptron          1  0.444444   1       0.698089  0.264872       352\n",
      "squared_error       1  0.444444   1       0.830749  0.00125901      38\n",
      "hinge               1  0.555556   1       0.830749  0.00125901      38\n",
      "huber               1  0.555556   1       0.830749  0.00125901      38\n",
      "perceptron          1  0.555556   1       0.698089  0.264872       352\n",
      "squared_error       1  0.555556   1       0.830749  0.00125901      38\n",
      "hinge               1  0.666667   1       0.830749  0.00125901      38\n",
      "huber               1  0.666667   1       0.830749  0.00125901      38\n",
      "perceptron          1  0.666667   1       0.698089  0.264872       352\n",
      "squared_error       1  0.666667   1       0.830749  0.00125901      38\n",
      "hinge               1  0.777778   1       0.830749  0.00125901      38\n",
      "huber               1  0.777778   1       0.830749  0.00125901      38\n",
      "perceptron          1  0.777778   1       0.698089  0.264872       352\n",
      "squared_error       1  0.777778   1       0.830749  0.00125901      38\n",
      "hinge               1  0.888889   1       0.830749  0.00125901      38\n",
      "huber               1  0.888889   1       0.830749  0.00125901      38\n",
      "perceptron          1  0.888889   1       0.698089  0.264872       352\n",
      "squared_error       1  0.888889   1       0.830749  0.00125901      38\n",
      "hinge               1  1          1       0.830749  0.00125901      38\n",
      "huber               1  1          1       0.830749  0.00125901      38\n",
      "perceptron          1  1          1       0.698089  0.264872       352\n",
      "squared_error       1  1          1       0.830749  0.00125901      38\n",
      "hinge              10  0          1       0.774154  0.0923148      302\n",
      "huber              10  0          1       0.515857  0.138674       504\n",
      "perceptron         10  0          1       0.776174  0.0883446      294\n",
      "squared_error      10  0          1       0.533556  0.171052       483\n",
      "hinge              10  0.111111   1       0.830749  0.00125901      38\n",
      "huber              10  0.111111   1       0.830749  0.00125901      38\n",
      "perceptron         10  0.111111   1       0.830749  0.00125901      38\n",
      "squared_error      10  0.111111   1       0.604286  0.120854       422\n",
      "hinge              10  0.222222   1       0.698089  0.264872       352\n",
      "huber              10  0.222222   1       0.830749  0.00125901      38\n",
      "perceptron         10  0.222222   1       0.698089  0.264872       352\n",
      "squared_error      10  0.222222   1       0.59884   0.113426       425\n",
      "hinge              10  0.333333   1       0.698089  0.264872       352\n",
      "huber              10  0.333333   1       0.830749  0.00125901      38\n",
      "perceptron         10  0.333333   1       0.698089  0.264872       352\n",
      "squared_error      10  0.333333   1       0.436901  0.176086       570\n",
      "hinge              10  0.444444   1       0.698089  0.264872       352\n",
      "huber              10  0.444444   1       0.830749  0.00125901      38\n",
      "perceptron         10  0.444444   1       0.698089  0.264872       352\n",
      "squared_error      10  0.444444   1       0.453583  0.165257       560\n",
      "hinge              10  0.555556   1       0.698089  0.264872       352\n",
      "huber              10  0.555556   1       0.830749  0.00125901      38\n",
      "perceptron         10  0.555556   1       0.698089  0.264872       352\n",
      "squared_error      10  0.555556   1       0.487317  0.159959       537\n",
      "hinge              10  0.666667   1       0.698089  0.264872       352\n",
      "huber              10  0.666667   1       0.830749  0.00125901      38\n",
      "perceptron         10  0.666667   1       0.698089  0.264872       352\n",
      "squared_error      10  0.666667   1       0.625844  0.121346       412\n",
      "hinge              10  0.777778   1       0.698089  0.264872       352\n",
      "huber              10  0.777778   1       0.830749  0.00125901      38\n",
      "perceptron         10  0.777778   1       0.698089  0.264872       352\n",
      "squared_error      10  0.777778   1       0.547707  0.16706        469\n",
      "hinge              10  0.888889   1       0.698089  0.264872       352\n",
      "huber              10  0.888889   1       0.830749  0.00125901      38\n",
      "perceptron         10  0.888889   1       0.698089  0.264872       352\n",
      "squared_error      10  0.888889   1       0.437567  0.103062       569\n",
      "hinge              10  1          1       0.698089  0.264872       352\n",
      "huber              10  1          1       0.830749  0.00125901      38\n",
      "perceptron         10  1          1       0.698089  0.264872       352\n",
      "squared_error      10  1          1       0.602932  0.0939241      423\n",
      "hinge             100  0          1       0.821965  0.0174462      154\n",
      "huber             100  0          1       0.390249  0.120903       588\n",
      "perceptron        100  0          1       0.776174  0.0883446      294\n",
      "squared_error     100  0          1       0.559778  0.147441       455\n",
      "hinge             100  0.111111   1       0.830749  0.00125901      38\n",
      "huber             100  0.111111   1       0.830749  0.00125901      38\n",
      "perceptron        100  0.111111   1       0.830749  0.00125901      38\n",
      "squared_error     100  0.111111   1       0.527948  0.0757038      489\n",
      "hinge             100  0.222222   1       0.698089  0.264872       352\n",
      "huber             100  0.222222   1       0.830749  0.00125901      38\n",
      "perceptron        100  0.222222   1       0.698089  0.264872       352\n",
      "squared_error     100  0.222222   1       0.442456  0.188704       565\n",
      "hinge             100  0.333333   1       0.698089  0.264872       352\n",
      "huber             100  0.333333   1       0.830749  0.00125901      38\n",
      "perceptron        100  0.333333   1       0.698089  0.264872       352\n",
      "squared_error     100  0.333333   1       0.498132  0.156441       523\n",
      "hinge             100  0.444444   1       0.698089  0.264872       352\n",
      "huber             100  0.444444   1       0.830749  0.00125901      38\n",
      "perceptron        100  0.444444   1       0.698089  0.264872       352\n",
      "squared_error     100  0.444444   1       0.564635  0.169781       448\n",
      "hinge             100  0.555556   1       0.698089  0.264872       352\n",
      "huber             100  0.555556   1       0.830749  0.00125901      38\n",
      "perceptron        100  0.555556   1       0.698089  0.264872       352\n",
      "squared_error     100  0.555556   1       0.398351  0.130117       585\n",
      "hinge             100  0.666667   1       0.698089  0.264872       352\n",
      "huber             100  0.666667   1       0.830749  0.00125901      38\n",
      "perceptron        100  0.666667   1       0.698089  0.264872       352\n",
      "squared_error     100  0.666667   1       0.461314  0.0846317      554\n",
      "hinge             100  0.777778   1       0.698089  0.264872       352\n",
      "huber             100  0.777778   1       0.830749  0.00125901      38\n",
      "perceptron        100  0.777778   1       0.698089  0.264872       352\n",
      "squared_error     100  0.777778   1       0.488332  0.183455       533\n",
      "hinge             100  0.888889   1       0.698089  0.264872       352\n",
      "huber             100  0.888889   1       0.830749  0.00125901      38\n",
      "perceptron        100  0.888889   1       0.698089  0.264872       352\n",
      "squared_error     100  0.888889   1       0.550871  0.0624433      464\n",
      "hinge             100  1          1       0.698089  0.264872       352\n",
      "huber             100  1          1       0.830749  0.00125901      38\n",
      "perceptron        100  1          1       0.698089  0.264872       352\n",
      "squared_error     100  1          1       0.604905  0.104907       421\n"
     ]
    }
   ],
   "source": [
    "results = cross_validation.cv_results_\n",
    "params = results['params']\n",
    "mean = results['mean_test_score']\n",
    "std = results['std_test_score']\n",
    "rank = results['rank_test_score']\n",
    "\n",
    "table=[]\n",
    "for p, m, s, r in zip(params, mean, std, rank):\n",
    "    table.append([p['loss'], p['eta0'], p['l1_ratio'], p['alpha'], m, s, r])\n",
    "print(tabulate(table, headers=[\"LOSS\",\"ETA0\", \"L1_r\",\"ALPHA\", \"MEAN\",\"STD\",\"RANK\"]))"
   ],
   "metadata": {
    "pycharm": {
     "name": "#%%\n"
    },
    "id": "ioMw6mqaZY2U",
    "outputId": "eb245adf-1a1a-4a71-fc43-7ebdffe4b7c3"
   }
  },
  {
   "cell_type": "markdown",
   "source": [
    "#### Presentación de los parámetros y métricas asociados al modelo de mayor ranking"
   ],
   "metadata": {
    "collapsed": false,
    "pycharm": {
     "name": "#%% md\n"
    },
    "id": "-rE4YCUuZY2V"
   }
  },
  {
   "cell_type": "code",
   "execution_count": 36,
   "outputs": [
    {
     "name": "stdout",
     "output_type": "stream",
     "text": [
      "SGDClassifier(alpha=0.001, eta0=1, l1_ratio=0.7777777777777777,\n",
      "              learning_rate='constant', loss='perceptron', penalty='elasticnet',\n",
      "              random_state=0)\n",
      "Accuracy: 0.854  Std: 0.013  Rank: 1\n"
     ]
    }
   ],
   "source": [
    "print(cross_validation.best_estimator_)\n",
    "indice_best=params.index(cross_validation.best_params_)\n",
    "print(f\"Accuracy: {round(mean[indice_best],3)}  Std: {round(std[indice_best],3)}  Rank: {rank[indice_best]}\")"
   ],
   "metadata": {
    "pycharm": {
     "name": "#%%\n"
    },
    "id": "YAjFItPzZY2V",
    "outputId": "b6e77dce-276f-445d-e7a0-c46990d53dd6"
   }
  },
  {
   "cell_type": "markdown",
   "source": [
    "#### Implementacion del modelo para predecir a partir el conjunto de prueba y entrenamiento"
   ],
   "metadata": {
    "collapsed": false,
    "pycharm": {
     "name": "#%% md\n"
    },
    "id": "iyG7FIbyZY2V"
   }
  },
  {
   "cell_type": "code",
   "execution_count": 37,
   "outputs": [],
   "source": [
    "best_clf = SGDClassifier(alpha=0.001, eta0=1, l1_ratio=0.7777777777777777,\n",
    "                         learning_rate='constant', loss='perceptron',\n",
    "                         penalty='elasticnet', random_state=0)\n",
    "\n",
    "best_clf.fit(X_train, y_train)\n",
    "y_test_pred_b = best_clf.predict(X_test)\n",
    "y_train_pred_b = best_clf.predict(X_train)"
   ],
   "metadata": {
    "pycharm": {
     "name": "#%%\n"
    },
    "id": "Q0LPtnlvZY2X"
   }
  },
  {
   "cell_type": "markdown",
   "source": [
    "#### Métricas para el conjunto de prueba"
   ],
   "metadata": {
    "collapsed": false,
    "pycharm": {
     "name": "#%% md\n"
    },
    "id": "pHcGRnl1ZY2X"
   }
  },
  {
   "cell_type": "code",
   "execution_count": 38,
   "outputs": [
    {
     "name": "stdout",
     "output_type": "stream",
     "text": [
      "Metricas para el conjunto test(prueba)\n",
      "Accuracy = 0.841\n",
      "Precision= 0.488\n",
      "Recall   = 0.362\n",
      "F1       = 0.416\n"
     ]
    },
    {
     "data": {
      "text/plain": "<Figure size 432x288 with 2 Axes>",
      "image/png": "[encoded data removed]"
     },
     "metadata": {
      "needs_background": "light"
     },
     "output_type": "display_data"
    }
   ],
   "source": [
    "# Metricas para conjunto test(prueba)\n",
    "acc_test_best = accuracy_score(y_test, y_test_pred_b)\n",
    "pre_test_best = precision_score(y_test, y_test_pred_b)\n",
    "rcall_test_best = recall_score(y_test, y_test_pred_b)\n",
    "f1_test_best = f1_score(y_test, y_test_pred_b)\n",
    "cm_test_best = confusion_matrix(y_test, y_test_pred_b, labels=best_clf.classes_)\n",
    "\n",
    "print(f\"Metricas para el conjunto test(prueba)\")\n",
    "print(f\"Accuracy = {round(acc_test_best,3)}\")\n",
    "print(f\"Precision= {round(pre_test_best,3)}\")\n",
    "print(f\"Recall   = {round(rcall_test_best,3)}\")\n",
    "print(f\"F1       = {round(f1_test_best,3)}\")\n",
    "plot_confusion_matrix(cm_test_best, best_clf.classes_)"
   ],
   "metadata": {
    "pycharm": {
     "name": "#%%\n"
    },
    "id": "K4oabwpmZY2X",
    "outputId": "f50c04dc-979a-4478-ebd0-2bfe7bf83b82"
   }
  },
  {
   "cell_type": "markdown",
   "source": [
    "#### Métricas para el conjunto de entrenamiento"
   ],
   "metadata": {
    "collapsed": false,
    "pycharm": {
     "name": "#%% md\n"
    },
    "id": "1vgLMvFtZY2Y"
   }
  },
  {
   "cell_type": "code",
   "execution_count": 39,
   "outputs": [
    {
     "name": "stdout",
     "output_type": "stream",
     "text": [
      "Metricas para el conjunto train(entrenamiento)\n",
      "Accuracy = 0.831\n",
      "Precision= 0.5\n",
      "Recall   = 0.418\n",
      "F1       = 0.456\n"
     ]
    },
    {
     "data": {
      "text/plain": "<Figure size 432x288 with 2 Axes>",
      "image/png": "[encoded data removed]"
     },
     "metadata": {
      "needs_background": "light"
     },
     "output_type": "display_data"
    }
   ],
   "source": [
    "# Metricas para conjunto train(entrenamiento)\n",
    "acc_train_best = accuracy_score(y_train, y_train_pred_b)\n",
    "pre_train_best = precision_score(y_train, y_train_pred_b)\n",
    "rcall_train_best = recall_score(y_train, y_train_pred_b)\n",
    "f1_train_best = f1_score(y_train, y_train_pred_b)\n",
    "cm_train_best = confusion_matrix(y_train, y_train_pred_b, labels=best_clf.classes_)\n",
    "\n",
    "print(f\"Metricas para el conjunto train(entrenamiento)\")\n",
    "print(f\"Accuracy = {round(acc_train_best,3)}\")\n",
    "print(f\"Precision= {round(pre_train_best,3)}\")\n",
    "print(f\"Recall   = {round(rcall_train_best,3)}\")\n",
    "print(f\"F1       = {round(f1_train_best,3)}\")\n",
    "plot_confusion_matrix(cm_train_best, best_clf.classes_)"
   ],
   "metadata": {
    "pycharm": {
     "name": "#%%\n"
    },
    "id": "K0csUz1vZY2Z",
    "outputId": "3b635fc5-7bd4-40e6-e37d-00444a18f196"
   }
  },
  {
   "cell_type": "markdown",
   "source": [
    "#### De los anteriores podemos concluir que:\n",
    "  - Las metricas evaluadas sobre las predicciones dados los hiperparametros obtenidos por la grilla, NO son significativamente mejores frente a la correspondiente del modelo con parametros por defecto.\n",
    "  - Interpretación: El rango y tipo de parametros evaluados no contienen los valores por defecto. Sino valores y atributos duros, utilizado para aplicar el gridSearch de manera inicial. Aun en este caso el mejor modelo obtenido baja lijeramente la Precision manteniendo la Accuracy, Recall y F1 con valores similares al caso inicial, con valores por default. Queda planteado explorar alrededor de las condiciones iniciales en busqueda de un punto optimo de mejor perfomance.\n"
   ],
   "metadata": {
    "collapsed": false,
    "pycharm": {
     "name": "#%% md\n"
    }
   }
  },
  {
   "cell_type": "markdown",
   "metadata": {
    "pycharm": {
     "name": "#%% md\n"
    },
    "id": "ICFWx67KZY2Z"
   },
   "source": [
    "## Ejercicio 3: Árboles de Decisión\n",
    "\n",
    "En este ejercicio se entrenarán árboles de decisión para predecir la variable objetivo.\n",
    "\n",
    "Para ello, deberán utilizar la clase DecisionTreeClassifier de scikit-learn.\n",
    "\n",
    "Documentación:\n",
    "- https://scikit-learn.org/stable/modules/tree.html\n",
    "  - https://scikit-learn.org/stable/modules/tree.html#tips-on-practical-use\n",
    "- https://scikit-learn.org/stable/modules/generated/sklearn.tree.DecisionTreeClassifier.html\n",
    "- https://scikit-learn.org/stable/auto_examples/tree/plot_unveil_tree_structure.html"
   ]
  },
  {
   "cell_type": "markdown",
   "metadata": {
    "pycharm": {
     "name": "#%% md\n"
    },
    "id": "cz-bly-mZY2a"
   },
   "source": [
    "### Ejercicio 3.1: DecisionTreeClassifier con hiperparámetros por defecto\n",
    "\n",
    "Entrenar y evaluar el clasificador DecisionTreeClassifier usando los valores por omisión de scikit-learn para todos los parámetros. Únicamente **fijar la semilla aleatoria** para hacer repetible el experimento.\n",
    "\n",
    "Evaluar sobre el conjunto de **entrenamiento** y sobre el conjunto de **evaluación**, reportando:\n",
    "- Accuracy\n",
    "- Precision\n",
    "- Recall\n",
    "- F1\n",
    "- matriz de confusión\n"
   ]
  },
  {
   "cell_type": "markdown",
   "source": [
    "####  Rta//: Importamos las librerías necesarias y entrenamos nuestro conjunto de datos:"
   ],
   "metadata": {
    "id": "lIMS5TzCZtAR",
    "pycharm": {
     "name": "#%% md\n"
    }
   }
  },
  {
   "cell_type": "code",
   "source": [
    "from sklearn.metrics import accuracy_score, precision_score, recall_score,\\\n",
    " f1_score, confusion_matrix, ConfusionMatrixDisplay,classification_report\n"
   ],
   "metadata": {
    "id": "riwrDxnzhiwz",
    "pycharm": {
     "name": "#%%\n"
    }
   },
   "execution_count": 40,
   "outputs": []
  },
  {
   "cell_type": "code",
   "execution_count": 41,
   "outputs": [
    {
     "name": "stdout",
     "output_type": "stream",
     "text": [
      "Reporte para Conjunto de entrenamiento:\n",
      "               precision    recall  f1-score   support\n",
      "\n",
      "           0       1.00      1.00      1.00      1232\n",
      "           1       1.00      1.00      1.00       251\n",
      "\n",
      "    accuracy                           1.00      1483\n",
      "   macro avg       1.00      1.00      1.00      1483\n",
      "weighted avg       1.00      1.00      1.00      1483\n",
      "\n"
     ]
    }
   ],
   "source": [
    "# X_train, X_test, y_train, y_test = train_test_split(X, y, test_size=0.2, random_state=0)\n",
    "\n",
    "from sklearn.tree import DecisionTreeClassifier\n",
    "clf = DecisionTreeClassifier(random_state=0)\n",
    "clf.fit(X_train, y_train)\n",
    "y_train_pred = clf.predict(X_train)\n",
    "y_test_pred = clf.predict(X_test)\n",
    "\n",
    "# Conjunto de Entrenamiento:\n",
    "print(f'Reporte para Conjunto de entrenamiento:\\n {classification_report(y_train, y_train_pred)}')\n"
   ],
   "metadata": {
    "pycharm": {
     "name": "#%%\n"
    },
    "id": "MTDt6vlWZY2b",
    "outputId": "837c143a-b5ea-4d42-eee0-c587617737fa",
    "colab": {
     "base_uri": "https://localhost:8080/"
    }
   }
  },
  {
   "cell_type": "code",
   "source": [
    "cm_train=confusion_matrix(y_train, y_train_pred, labels=clf.classes_)\n",
    "\n",
    "import matplotlib.pyplot as plt\n",
    "disp = ConfusionMatrixDisplay(confusion_matrix=cm_train,\n",
    "                              display_labels=clf.classes_)\n",
    "disp.plot(cmap=plt.cm.Blues)\n"
   ],
   "metadata": {
    "id": "f-rvLEEii86_",
    "outputId": "5682103a-f881-413b-9d83-ae1de37d9010",
    "colab": {
     "base_uri": "https://localhost:8080/",
     "height": 296
    },
    "pycharm": {
     "name": "#%%\n"
    }
   },
   "execution_count": 42,
   "outputs": [
    {
     "data": {
      "text/plain": "<sklearn.metrics._plot.confusion_matrix.ConfusionMatrixDisplay at 0x291056550a0>"
     },
     "execution_count": 42,
     "metadata": {},
     "output_type": "execute_result"
    },
    {
     "data": {
      "text/plain": "<Figure size 432x288 with 2 Axes>",
      "image/png": "[encoded data removed]"
     },
     "metadata": {
      "needs_background": "light"
     },
     "output_type": "display_data"
    }
   ]
  },
  {
   "cell_type": "code",
   "source": [
    "# Conjunto de Test\n",
    "print(f'Reporte para Conjunto de Test:\\n {classification_report(y_test, y_test_pred)}')\n"
   ],
   "metadata": {
    "id": "lCUGo-X5I5Uq",
    "outputId": "21ed631a-f055-4a56-fa64-8817774e168d",
    "colab": {
     "base_uri": "https://localhost:8080/"
    },
    "pycharm": {
     "name": "#%%\n"
    }
   },
   "execution_count": 43,
   "outputs": [
    {
     "name": "stdout",
     "output_type": "stream",
     "text": [
      "Reporte para Conjunto de Test:\n",
      "               precision    recall  f1-score   support\n",
      "\n",
      "           0       0.93      0.93      0.93       313\n",
      "           1       0.62      0.64      0.63        58\n",
      "\n",
      "    accuracy                           0.88       371\n",
      "   macro avg       0.77      0.78      0.78       371\n",
      "weighted avg       0.88      0.88      0.88       371\n",
      "\n"
     ]
    }
   ]
  },
  {
   "cell_type": "code",
   "source": [
    "cm_test=confusion_matrix(y_test, y_test_pred, labels=clf.classes_)\n",
    "\n",
    "import matplotlib.pyplot as plt\n",
    "disp = ConfusionMatrixDisplay(confusion_matrix=cm_test,\n",
    "                              display_labels=clf.classes_)\n",
    "disp.plot(cmap=plt.cm.Blues)\n"
   ],
   "metadata": {
    "id": "SkS3XSCaJ3e5",
    "outputId": "22a71924-ed2f-4ae7-88b8-606c473fc3eb",
    "colab": {
     "base_uri": "https://localhost:8080/",
     "height": 296
    },
    "pycharm": {
     "name": "#%%\n"
    }
   },
   "execution_count": 44,
   "outputs": [
    {
     "data": {
      "text/plain": "<sklearn.metrics._plot.confusion_matrix.ConfusionMatrixDisplay at 0x29106a28be0>"
     },
     "execution_count": 44,
     "metadata": {},
     "output_type": "execute_result"
    },
    {
     "data": {
      "text/plain": "<Figure size 432x288 with 2 Axes>",
      "image/png": "[encoded data removed]"
     },
     "metadata": {
      "needs_background": "light"
     },
     "output_type": "display_data"
    }
   ]
  },
  {
   "cell_type": "markdown",
   "source": [
    "### Ejercicio 3.2: Ajuste de Hiperparámetros\n",
    "\n",
    "Seleccionar valores para los hiperparámetros principales del DecisionTreeClassifier. Como mínimo, probar diferentes criterios de partición (criterion), profundidad máxima del árbol (max_depth), y cantidad mínima de samples por hoja (min_samples_leaf).\n",
    "\n",
    "Para ello, usar grid-search y 5-fold cross-validation sobre el conjunto de entrenamiento para explorar muchas combinaciones posibles de valores.\n",
    "\n",
    "Reportar accuracy promedio y varianza para todas las configuraciones.\n",
    "\n",
    "Para la mejor configuración encontrada, evaluar sobre el conjunto de **entrenamiento** y sobre el conjunto de **evaluación**, reportando:\n",
    "- Accuracy\n",
    "- Precision\n",
    "- Recall\n",
    "- F1\n",
    "- matriz de confusión\n",
    "\n",
    "\n",
    "Documentación:\n",
    "- https://scikit-learn.org/stable/modules/grid_search.html\n",
    "- https://scikit-learn.org/stable/modules/generated/sklearn.model_selection.GridSearchCV.html"
   ],
   "metadata": {
    "collapsed": false,
    "pycharm": {
     "name": "#%% md\n"
    },
    "id": "juVQ8QNiZY2b"
   }
  },
  {
   "cell_type": "markdown",
   "source": [
    "- Del anterior resultado (entre el conjunto de train y el de test) podemos inferir que el modelo se encuentra sobreajustado. Es evidente que se hace necesario ajustar los hiperparametros del modelo por ejemplo: la profundidad máxima del árbol"
   ],
   "metadata": {
    "id": "rDQxM7IzfF_m",
    "pycharm": {
     "name": "#%% md\n"
    }
   }
  },
  {
   "cell_type": "markdown",
   "source": [
    "####  Rta//: Modificando Hiper parametros->"
   ],
   "metadata": {
    "id": "DFw-WWYkLOV-",
    "pycharm": {
     "name": "#%% md\n"
    }
   }
  },
  {
   "cell_type": "code",
   "source": [
    "from sklearn.model_selection import GridSearchCV\n",
    "\n",
    "# Defino hiper parametros:\n",
    "parameters = {'criterion':['entropy','gini'], 'max_depth':[None, 3, 5, 7, 13, 19, 31],\\\n",
    "              'min_samples_split': [3,5,7], 'min_samples_leaf':[1,2,3,4]}\n",
    "\n",
    "tree = DecisionTreeClassifier(random_state=0)\n",
    "\n",
    "clf = GridSearchCV(tree, parameters, scoring=('accuracy', 'explained_variance'), \\\n",
    "                   cv=3,return_train_score=True, refit='accuracy')\n",
    "\n",
    "clf.fit(X_train, y_train)"
   ],
   "metadata": {
    "id": "S38GkIqqaGdd",
    "outputId": "48f5e1cd-a4b8-4529-9052-eab143d76092",
    "colab": {
     "base_uri": "https://localhost:8080/"
    },
    "pycharm": {
     "name": "#%%\n"
    }
   },
   "execution_count": 45,
   "outputs": [
    {
     "data": {
      "text/plain": "GridSearchCV(cv=3, estimator=DecisionTreeClassifier(random_state=0),\n             param_grid={'criterion': ['entropy', 'gini'],\n                         'max_depth': [None, 3, 5, 7, 13, 19, 31],\n                         'min_samples_leaf': [1, 2, 3, 4],\n                         'min_samples_split': [3, 5, 7]},\n             refit='accuracy', return_train_score=True,\n             scoring=('accuracy', 'explained_variance'))",
      "text/html": "<style>#sk-container-id-6 {color: black;background-color: white;}#sk-container-id-6 pre{padding: 0;}#sk-container-id-6 div.sk-toggleable {background-color: white;}#sk-container-id-6 label.sk-toggleable__label {cursor: pointer;display: block;width: 100%;margin-bottom: 0;padding: 0.3em;box-sizing: border-box;text-align: center;}#sk-container-id-6 label.sk-toggleable__label-arrow:before {content: \"▸\";float: left;margin-right: 0.25em;color: #696969;}#sk-container-id-6 label.sk-toggleable__label-arrow:hover:before {color: black;}#sk-container-id-6 div.sk-estimator:hover label.sk-toggleable__label-arrow:before {color: black;}#sk-container-id-6 div.sk-toggleable__content {max-height: 0;max-width: 0;overflow: hidden;text-align: left;background-color: #f0f8ff;}#sk-container-id-6 div.sk-toggleable__content pre {margin: 0.2em;color: black;border-radius: 0.25em;background-color: #f0f8ff;}#sk-container-id-6 input.sk-toggleable__control:checked~div.sk-toggleable__content {max-height: 200px;max-width: 100%;overflow: auto;}#sk-container-id-6 input.sk-toggleable__control:checked~label.sk-toggleable__label-arrow:before {content: \"▾\";}#sk-container-id-6 div.sk-estimator input.sk-toggleable__control:checked~label.sk-toggleable__label {background-color: #d4ebff;}#sk-container-id-6 div.sk-label input.sk-toggleable__control:checked~label.sk-toggleable__label {background-color: #d4ebff;}#sk-container-id-6 input.sk-hidden--visually {border: 0;clip: rect(1px 1px 1px 1px);clip: rect(1px, 1px, 1px, 1px);height: 1px;margin: -1px;overflow: hidden;padding: 0;position: absolute;width: 1px;}#sk-container-id-6 div.sk-estimator {font-family: monospace;background-color: #f0f8ff;border: 1px dotted black;border-radius: 0.25em;box-sizing: border-box;margin-bottom: 0.5em;}#sk-container-id-6 div.sk-estimator:hover {background-color: #d4ebff;}#sk-container-id-6 div.sk-parallel-item::after {content: \"\";width: 100%;border-bottom: 1px solid gray;flex-grow: 1;}#sk-container-id-6 div.sk-label:hover label.sk-toggleable__label {background-color: #d4ebff;}#sk-container-id-6 div.sk-serial::before {content: \"\";position: absolute;border-left: 1px solid gray;box-sizing: border-box;top: 0;bottom: 0;left: 50%;z-index: 0;}#sk-container-id-6 div.sk-serial {display: flex;flex-direction: column;align-items: center;background-color: white;padding-right: 0.2em;padding-left: 0.2em;position: relative;}#sk-container-id-6 div.sk-item {position: relative;z-index: 1;}#sk-container-id-6 div.sk-parallel {display: flex;align-items: stretch;justify-content: center;background-color: white;position: relative;}#sk-container-id-6 div.sk-item::before, #sk-container-id-6 div.sk-parallel-item::before {content: \"\";position: absolute;border-left: 1px solid gray;box-sizing: border-box;top: 0;bottom: 0;left: 50%;z-index: -1;}#sk-container-id-6 div.sk-parallel-item {display: flex;flex-direction: column;z-index: 1;position: relative;background-color: white;}#sk-container-id-6 div.sk-parallel-item:first-child::after {align-self: flex-end;width: 50%;}#sk-container-id-6 div.sk-parallel-item:last-child::after {align-self: flex-start;width: 50%;}#sk-container-id-6 div.sk-parallel-item:only-child::after {width: 0;}#sk-container-id-6 div.sk-dashed-wrapped {border: 1px dashed gray;margin: 0 0.4em 0.5em 0.4em;box-sizing: border-box;padding-bottom: 0.4em;background-color: white;}#sk-container-id-6 div.sk-label label {font-family: monospace;font-weight: bold;display: inline-block;line-height: 1.2em;}#sk-container-id-6 div.sk-label-container {text-align: center;}#sk-container-id-6 div.sk-container {/* jupyter's `normalize.less` sets `[hidden] { display: none; }` but bootstrap.min.css set `[hidden] { display: none !important; }` so we also need the `!important` here to be able to override the default hidden behavior on the sphinx rendered scikit-learn.org. See: https://github.com/scikit-learn/scikit-learn/issues/21755 */display: inline-block !important;position: relative;}#sk-container-id-6 div.sk-text-repr-fallback {display: none;}</style><div id=\"sk-container-id-6\" class=\"sk-top-container\"><div class=\"sk-text-repr-fallback\"><pre>GridSearchCV(cv=3, estimator=DecisionTreeClassifier(random_state=0),\n             param_grid={&#x27;criterion&#x27;: [&#x27;entropy&#x27;, &#x27;gini&#x27;],\n                         &#x27;max_depth&#x27;: [None, 3, 5, 7, 13, 19, 31],\n                         &#x27;min_samples_leaf&#x27;: [1, 2, 3, 4],\n                         &#x27;min_samples_split&#x27;: [3, 5, 7]},\n             refit=&#x27;accuracy&#x27;, return_train_score=True,\n             scoring=(&#x27;accuracy&#x27;, &#x27;explained_variance&#x27;))</pre><b>In a Jupyter environment, please rerun this cell to show the HTML representation or trust the notebook. <br />On GitHub, the HTML representation is unable to render, please try loading this page with nbviewer.org.</b></div><div class=\"sk-container\" hidden><div class=\"sk-item sk-dashed-wrapped\"><div class=\"sk-label-container\"><div class=\"sk-label sk-toggleable\"><input class=\"sk-toggleable__control sk-hidden--visually\" id=\"sk-estimator-id-16\" type=\"checkbox\" ><label for=\"sk-estimator-id-16\" class=\"sk-toggleable__label sk-toggleable__label-arrow\">GridSearchCV</label><div class=\"sk-toggleable__content\"><pre>GridSearchCV(cv=3, estimator=DecisionTreeClassifier(random_state=0),\n             param_grid={&#x27;criterion&#x27;: [&#x27;entropy&#x27;, &#x27;gini&#x27;],\n                         &#x27;max_depth&#x27;: [None, 3, 5, 7, 13, 19, 31],\n                         &#x27;min_samples_leaf&#x27;: [1, 2, 3, 4],\n                         &#x27;min_samples_split&#x27;: [3, 5, 7]},\n             refit=&#x27;accuracy&#x27;, return_train_score=True,\n             scoring=(&#x27;accuracy&#x27;, &#x27;explained_variance&#x27;))</pre></div></div></div><div class=\"sk-parallel\"><div class=\"sk-parallel-item\"><div class=\"sk-item\"><div class=\"sk-label-container\"><div class=\"sk-label sk-toggleable\"><input class=\"sk-toggleable__control sk-hidden--visually\" id=\"sk-estimator-id-17\" type=\"checkbox\" ><label for=\"sk-estimator-id-17\" class=\"sk-toggleable__label sk-toggleable__label-arrow\">estimator: DecisionTreeClassifier</label><div class=\"sk-toggleable__content\"><pre>DecisionTreeClassifier(random_state=0)</pre></div></div></div><div class=\"sk-serial\"><div class=\"sk-item\"><div class=\"sk-estimator sk-toggleable\"><input class=\"sk-toggleable__control sk-hidden--visually\" id=\"sk-estimator-id-18\" type=\"checkbox\" ><label for=\"sk-estimator-id-18\" class=\"sk-toggleable__label sk-toggleable__label-arrow\">DecisionTreeClassifier</label><div class=\"sk-toggleable__content\"><pre>DecisionTreeClassifier(random_state=0)</pre></div></div></div></div></div></div></div></div></div></div>"
     },
     "execution_count": 45,
     "metadata": {},
     "output_type": "execute_result"
    }
   ]
  },
  {
   "cell_type": "markdown",
   "source": [
    "##### - Construimos un dataframe de los resultados mas relevantes:"
   ],
   "metadata": {
    "id": "fgU8gELpMzcK",
    "pycharm": {
     "name": "#%% md\n"
    }
   }
  },
  {
   "cell_type": "code",
   "source": [
    "results = clf.cv_results_\n",
    "df = pd.DataFrame(results)\n",
    "df[['param_criterion', 'param_max_depth','param_min_samples_leaf', \\\n",
    "    'param_min_samples_split', 'mean_train_accuracy', 'mean_train_explained_variance']]"
   ],
   "metadata": {
    "id": "slAo5C_TK8OR",
    "outputId": "47a9c306-57f2-45c0-dd92-d9f1f7b09e06",
    "colab": {
     "base_uri": "https://localhost:8080/",
     "height": 468
    },
    "pycharm": {
     "name": "#%%\n"
    }
   },
   "execution_count": 46,
   "outputs": [
    {
     "data": {
      "text/plain": "    param_criterion param_max_depth param_min_samples_leaf  \\\n0           entropy            None                      1   \n1           entropy            None                      1   \n2           entropy            None                      1   \n3           entropy            None                      2   \n4           entropy            None                      2   \n..              ...             ...                    ...   \n163            gini              31                      3   \n164            gini              31                      3   \n165            gini              31                      4   \n166            gini              31                      4   \n167            gini              31                      4   \n\n    param_min_samples_split  mean_train_accuracy  \\\n0                         3             0.998651   \n1                         5             0.990559   \n2                         7             0.982468   \n3                         3             0.981795   \n4                         5             0.980784   \n..                      ...                  ...   \n163                       5             0.962239   \n164                       7             0.956171   \n165                       3             0.944708   \n166                       5             0.944708   \n167                       7             0.944708   \n\n     mean_train_explained_variance  \n0                         0.990419  \n1                         0.932883  \n2                         0.875463  \n3                         0.871224  \n4                         0.863930  \n..                             ...  \n163                       0.731713  \n164                       0.689604  \n165                       0.612554  \n166                       0.612554  \n167                       0.612554  \n\n[168 rows x 6 columns]",
      "text/html": "<div>\n<style scoped>\n    .dataframe tbody tr th:only-of-type {\n        vertical-align: middle;\n    }\n\n    .dataframe tbody tr th {\n        vertical-align: top;\n    }\n\n    .dataframe thead th {\n        text-align: right;\n    }\n</style>\n<table border=\"1\" class=\"dataframe\">\n  <thead>\n    <tr style=\"text-align: right;\">\n      <th></th>\n      <th>param_criterion</th>\n      <th>param_max_depth</th>\n      <th>param_min_samples_leaf</th>\n      <th>param_min_samples_split</th>\n      <th>mean_train_accuracy</th>\n      <th>mean_train_explained_variance</th>\n    </tr>\n  </thead>\n  <tbody>\n    <tr>\n      <th>0</th>\n      <td>entropy</td>\n      <td>None</td>\n      <td>1</td>\n      <td>3</td>\n      <td>0.998651</td>\n      <td>0.990419</td>\n    </tr>\n    <tr>\n      <th>1</th>\n      <td>entropy</td>\n      <td>None</td>\n      <td>1</td>\n      <td>5</td>\n      <td>0.990559</td>\n      <td>0.932883</td>\n    </tr>\n    <tr>\n      <th>2</th>\n      <td>entropy</td>\n      <td>None</td>\n      <td>1</td>\n      <td>7</td>\n      <td>0.982468</td>\n      <td>0.875463</td>\n    </tr>\n    <tr>\n      <th>3</th>\n      <td>entropy</td>\n      <td>None</td>\n      <td>2</td>\n      <td>3</td>\n      <td>0.981795</td>\n      <td>0.871224</td>\n    </tr>\n    <tr>\n      <th>4</th>\n      <td>entropy</td>\n      <td>None</td>\n      <td>2</td>\n      <td>5</td>\n      <td>0.980784</td>\n      <td>0.863930</td>\n    </tr>\n    <tr>\n      <th>...</th>\n      <td>...</td>\n      <td>...</td>\n      <td>...</td>\n      <td>...</td>\n      <td>...</td>\n      <td>...</td>\n    </tr>\n    <tr>\n      <th>163</th>\n      <td>gini</td>\n      <td>31</td>\n      <td>3</td>\n      <td>5</td>\n      <td>0.962239</td>\n      <td>0.731713</td>\n    </tr>\n    <tr>\n      <th>164</th>\n      <td>gini</td>\n      <td>31</td>\n      <td>3</td>\n      <td>7</td>\n      <td>0.956171</td>\n      <td>0.689604</td>\n    </tr>\n    <tr>\n      <th>165</th>\n      <td>gini</td>\n      <td>31</td>\n      <td>4</td>\n      <td>3</td>\n      <td>0.944708</td>\n      <td>0.612554</td>\n    </tr>\n    <tr>\n      <th>166</th>\n      <td>gini</td>\n      <td>31</td>\n      <td>4</td>\n      <td>5</td>\n      <td>0.944708</td>\n      <td>0.612554</td>\n    </tr>\n    <tr>\n      <th>167</th>\n      <td>gini</td>\n      <td>31</td>\n      <td>4</td>\n      <td>7</td>\n      <td>0.944708</td>\n      <td>0.612554</td>\n    </tr>\n  </tbody>\n</table>\n<p>168 rows × 6 columns</p>\n</div>"
     },
     "execution_count": 46,
     "metadata": {},
     "output_type": "execute_result"
    }
   ]
  },
  {
   "cell_type": "markdown",
   "source": [
    "#### Obtenemos la mejor selección de parametros dados los criterios anteriores:"
   ],
   "metadata": {
    "id": "7mjU1YwVLI1i",
    "pycharm": {
     "name": "#%% md\n"
    }
   }
  },
  {
   "cell_type": "code",
   "source": [
    "print(f'Best configuraton: ')\n",
    "\n",
    "final_model = clf.best_params_\n",
    "\n",
    "for i, j in final_model.items():\n",
    "    print (i,j)\n",
    "\n",
    "best_model = clf.best_estimator_\n"
   ],
   "metadata": {
    "id": "Oy_F1lZCLIEm",
    "outputId": "13a74961-14e1-4010-9ba4-75ac5c48be73",
    "colab": {
     "base_uri": "https://localhost:8080/"
    },
    "pycharm": {
     "name": "#%%\n"
    }
   },
   "execution_count": 47,
   "outputs": [
    {
     "name": "stdout",
     "output_type": "stream",
     "text": [
      "Best configuraton: \n",
      "criterion gini\n",
      "max_depth 7\n",
      "min_samples_leaf 1\n",
      "min_samples_split 3\n"
     ]
    }
   ]
  },
  {
   "cell_type": "code",
   "source": [
    "y_train_pred = best_model.predict(X_train)\n",
    "y_test_pred = best_model.predict(X_test)\n",
    "\n",
    "# print(y_train_pred, y_test_pred)\n",
    "\n",
    "# Conjunto de Entrenamiento:\n",
    "print(f'Reporte para Conjunto de entrenamiento:\\n {classification_report(y_train, y_train_pred)}')\n",
    "\n",
    "cm_train=confusion_matrix(y_train, y_train_pred, labels=clf.classes_)\n",
    "\n",
    "import matplotlib.pyplot as plt\n",
    "disp = ConfusionMatrixDisplay(confusion_matrix=cm_train,\n",
    "                              display_labels=clf.classes_)\n",
    "disp.plot(cmap=plt.cm.Blues)"
   ],
   "metadata": {
    "id": "a7L6DIs5Qg__",
    "outputId": "1b8eeb5c-52c0-4ace-bc1a-6f23cda778a6",
    "colab": {
     "base_uri": "https://localhost:8080/",
     "height": 470
    },
    "pycharm": {
     "name": "#%%\n"
    }
   },
   "execution_count": 48,
   "outputs": [
    {
     "name": "stdout",
     "output_type": "stream",
     "text": [
      "Reporte para Conjunto de entrenamiento:\n",
      "               precision    recall  f1-score   support\n",
      "\n",
      "           0       0.91      1.00      0.96      1232\n",
      "           1       0.99      0.54      0.70       251\n",
      "\n",
      "    accuracy                           0.92      1483\n",
      "   macro avg       0.95      0.77      0.83      1483\n",
      "weighted avg       0.93      0.92      0.91      1483\n",
      "\n"
     ]
    },
    {
     "data": {
      "text/plain": "<sklearn.metrics._plot.confusion_matrix.ConfusionMatrixDisplay at 0x291057a0ac0>"
     },
     "execution_count": 48,
     "metadata": {},
     "output_type": "execute_result"
    },
    {
     "data": {
      "text/plain": "<Figure size 432x288 with 2 Axes>",
      "image/png": "[encoded data removed]"
     },
     "metadata": {
      "needs_background": "light"
     },
     "output_type": "display_data"
    }
   ]
  },
  {
   "cell_type": "code",
   "source": [
    "# Conjunto de Test:\n",
    "print(f'Reporte para Conjunto de Test:\\n {classification_report(y_train, y_train_pred)}')\n",
    "\n",
    "cm_test=confusion_matrix(y_test, y_test_pred, labels=clf.classes_)\n",
    "\n",
    "import matplotlib.pyplot as plt\n",
    "disp = ConfusionMatrixDisplay(confusion_matrix=cm_test,\n",
    "                              display_labels=clf.classes_)\n",
    "disp.plot(cmap=plt.cm.Blues)"
   ],
   "metadata": {
    "id": "sN80mCapRLxO",
    "outputId": "43229867-475d-4f1c-e19e-2c43da28a113",
    "colab": {
     "base_uri": "https://localhost:8080/",
     "height": 471
    },
    "pycharm": {
     "name": "#%%\n"
    }
   },
   "execution_count": 49,
   "outputs": [
    {
     "name": "stdout",
     "output_type": "stream",
     "text": [
      "Reporte para Conjunto de Test:\n",
      "               precision    recall  f1-score   support\n",
      "\n",
      "           0       0.91      1.00      0.96      1232\n",
      "           1       0.99      0.54      0.70       251\n",
      "\n",
      "    accuracy                           0.92      1483\n",
      "   macro avg       0.95      0.77      0.83      1483\n",
      "weighted avg       0.93      0.92      0.91      1483\n",
      "\n"
     ]
    },
    {
     "data": {
      "text/plain": "<sklearn.metrics._plot.confusion_matrix.ConfusionMatrixDisplay at 0x29104d7bb20>"
     },
     "execution_count": 49,
     "metadata": {},
     "output_type": "execute_result"
    },
    {
     "data": {
      "text/plain": "<Figure size 432x288 with 2 Axes>",
      "image/png": "[encoded data removed]"
     },
     "metadata": {
      "needs_background": "light"
     },
     "output_type": "display_data"
    }
   ]
  },
  {
   "cell_type": "markdown",
   "source": [
    "#### De los anteriores podemos concluir que:\n",
    "  - Las metricas evaluadas sobre las predicciones dados los hiperparametros obtendos por la grilla, fueron significativamente mejores frente a los datos predecidos por el modelo sin configuración, esto se aprecia en el balanceo de las clases predichas, asi como en la reducción del sobre ajuste. Esto aplico en ambos conjuntos Train - Entrenamiento.\n"
   ],
   "metadata": {
    "collapsed": false,
    "pycharm": {
     "name": "#%% md\n"
    }
   }
  }
 ],
 "metadata": {
  "kernelspec": {
   "display_name": "Python 3",
   "language": "python",
   "name": "python3"
  },
  "language_info": {
   "codemirror_mode": {
    "name": "ipython",
    "version": 3
   },
   "file_extension": ".py",
   "mimetype": "text/x-python",
   "name": "python",
   "nbconvert_exporter": "python",
   "pygments_lexer": "ipython3",
   "version": "3.8.10"
  },
  "colab": {
   "name": "Lab 2 preliminar.ipynb",
   "provenance": []
  }
 },
 "nbformat": 4,
 "nbformat_minor": 0
}
